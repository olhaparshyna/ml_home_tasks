{
  "nbformat": 4,
  "nbformat_minor": 0,
  "metadata": {
    "colab": {
      "provenance": []
    },
    "kernelspec": {
      "name": "python3",
      "display_name": "Python 3"
    },
    "language_info": {
      "name": "python"
    }
  },
  "cells": [
    {
      "cell_type": "markdown",
      "source": [
        "В цьому домашньому завданні ми проведемо додаткові експерименти для рішення задачі бінарної класифікації і створимо ваш новий submission на змагання на Kaggle.\n",
        "\n",
        "-----------\n",
        "\n",
        "\n",
        "**Завдання 0**. Завантажте дані `train.csv`, `test.csv`, `sample_submission.csv` зі змагання на Kaggle [\"Bank Customer Churn Prediction (DLU Course)\"](https://www.kaggle.com/competitions/bank-customer-churn-prediction-dlu-course-c-2). Для завантаження потрібно долучитись до змагання (натиснути кнопку \"Join\").\n",
        "\n",
        "**Завдання 1**. **Збираємо весь код з попереднього ДЗ в одному місці.** В лекційному ноутбуці `Логістична регресія з ScikitLearn. Повна ML задача.ipynb` ми познайомились з поняттям пайплайнів, а також я показала, як компактно виглядає рішення МЛ задачі, якщо ми зберемо весь код разом.\n",
        "\n",
        "Оскільки ми далі будемо робити експерименти, які включають ті самі етапи попередньої обробки, але інше моделювання - буде зручно мати весь код компактно і під рукою. Тому зараз ми займемось збором коду до купи :) Після цього завдання для подальших експериментів ви можете перенести частини розвʼязку взагалі в окремий `.py` файл, аби було зручно імпортувати функції.\n",
        "\n",
        "Зі свого рішення в попередньому домашньому завданні (`Логістична регресія з scikit learn.ipynb`) зберіть усі кроки розвʼязку задачі разом з використанням `sklearn.Pipeline` за прикладом з лекції.\n",
        "\n",
        "Ваш код нижче має містити\n",
        "1. Читання даних з файлу (поза пайплайном).\n",
        "2. Розбиття на тренувальний і валідаційний набори, де валідаційний містить 20% даних (поза пайплайном).\n",
        "3. Виділення категоріальних і числових колонок (поза пайплайном).\n",
        "4. Підготовку категоріальних і числових колонок (частина пайплайну). В прикладі в лекції ми оформлювали обробку числових і категоріальних колонок в окремі трансформери `numeric_transformer`, `categorical_cols`. Рекоемндую зробити саме так, так потім зручніше вносити зміни :)\n",
        "5. Тренування лог регресії (частина пайплайну).\n",
        "6. Запуск пайплайну на тренування на трен. даних (поза пайплайном).\n",
        "7. Запуск пайплайну на передбачення на трен і вал. даних і вимір метрик якості ROC-AUC + вивдення Confusion Matrix (поза пайплайном).\n",
        "8. Збереження моделі в формат joblib (поза пайплайном).\n",
        "\n",
        "Ви це все вже зробили в попереднтьому ДЗ! Тож, тут просто заадча все зібрати разом.\n",
        "\n",
        "Нижче я додала підказки, що покроково ви маєте зробити. Якщо ви почуваєтесь впевнено, можете видалити ці підказки і реалізувати все самостійно, або ж - просто заповнити пропуски.\n",
        "\n",
        "Завдання оцінюється в 10 балів. Головний результат - аби код в фіналі був робочий. Бо за не робочий нам гроші ніхто не заплатить :)"
      ],
      "metadata": {
        "id": "gJ2A6t3mdEed"
      }
    },
    {
      "cell_type": "code",
      "source": [
        "import pandas as pd\n",
        "import numpy as np\n",
        "from sklearn.impute import SimpleImputer\n",
        "from sklearn.preprocessing import MinMaxScaler, OneHotEncoder, FunctionTransformer, StandardScaler, RobustScaler, PolynomialFeatures\n",
        "from sklearn.compose import ColumnTransformer\n",
        "from sklearn.pipeline import Pipeline\n",
        "from sklearn.model_selection import train_test_split\n",
        "from sklearn.linear_model import LogisticRegression, LinearRegression, Ridge, Lasso, ElasticNet\n",
        "from sklearn.metrics import f1_score, confusion_matrix, accuracy_score, roc_curve, auc, root_mean_squared_error, r2_score\n",
        "import matplotlib.pyplot as plt\n",
        "import seaborn as sns\n",
        "import joblib\n",
        "from operator import pos"
      ],
      "metadata": {
        "id": "rnboP579hYwG"
      },
      "execution_count": 93,
      "outputs": []
    },
    {
      "cell_type": "code",
      "source": [
        "raw_df = pd.read_csv(\"train.csv\", index_col=0)\n",
        "\n",
        "train_df, val_df = train_test_split(raw_df, test_size=0.2, random_state=42, stratify=raw_df.Exited)\n",
        "\n",
        "# Створюємо трен. і вал. набори\n",
        "input_cols = list(train_df.columns)[2:-1]\n",
        "target_col = 'Exited'\n",
        "train_inputs, train_targets = train_df[input_cols], train_df[target_col]\n",
        "val_inputs, val_targets = val_df[input_cols], val_df[target_col]\n",
        "\n",
        "\n",
        "# Виявляємо числові і категоріальні колонки\n",
        "numeric_cols = train_inputs.select_dtypes(include=np.number).columns.tolist()\n",
        "categorical_cols = train_inputs.select_dtypes(include='object').columns.tolist()\n",
        "\n",
        "# Створюємо трансформери для числових і категоріальних колонок\n",
        "numeric_transformer = Pipeline(steps=[\n",
        "    ('imputer', SimpleImputer(strategy='mean')),\n",
        "    ('scaler', MinMaxScaler())\n",
        "])\n",
        "\n",
        "categorical_transformer = Pipeline(steps=[\n",
        "    ('imputer', SimpleImputer(strategy='constant', fill_value='missing')),\n",
        "    ('onehot', OneHotEncoder(sparse_output=False, handle_unknown='ignore'))\n",
        "])\n",
        "\n",
        "# Комбінуємо трансформери для різних типів колонок в один препроцесор\n",
        "preprocessor = ColumnTransformer(\n",
        "    transformers=[\n",
        "        ('num', numeric_transformer, numeric_cols),\n",
        "        ('cat', categorical_transformer, categorical_cols)\n",
        "    ])\n",
        "\n",
        "# Стоврюємо пайплайн, який спочатку запускає препроцесинг, потім тренуєм модель\n",
        "model_pipeline = Pipeline(steps=[\n",
        "    ('preprocessor', preprocessor),\n",
        "    ('classifier', LogisticRegression(solver='liblinear', class_weight='balanced'))\n",
        "])\n",
        "\n",
        "# Тренуємо пайплайн\n",
        "model_pipeline.fit(train_inputs, train_targets)\n",
        "\n",
        "# Функція, щоб передбачати і рахувати метрики\n",
        "def predict_and_plot(model_pipeline, inputs, targets, name='', pos_label = None, threshold=0.5):\n",
        "    y_pred_proba = model_pipeline.predict_proba(inputs)[:, 1]\n",
        "    preds = (y_pred_proba >= threshold).astype(int)\n",
        "\n",
        "    # f1_score\n",
        "    f1 = f1_score(targets, preds)\n",
        "    print(f'F1 SCORE for {name}: {f1:.2f}')\n",
        "\n",
        "    # Compute ROC curve\n",
        "    fpr, tpr, thresholds = roc_curve(targets, y_pred_proba, pos_label = pos_label)\n",
        "\n",
        "    # Compute AUROC\n",
        "    roc_auc = auc(fpr, tpr)\n",
        "    print(f\"Area under ROC score on {name} dataset: {roc_auc:.2f}%\")\n",
        "    confusion_matrix_ = confusion_matrix(targets, preds, normalize='true')\n",
        "    plt.figure()\n",
        "    sns.heatmap(confusion_matrix_, annot=True, cmap='Blues')\n",
        "    plt.xlabel('Prediction')\n",
        "    plt.ylabel('Target')\n",
        "    plt.title('{} Confusion Matrix'.format(name))\n",
        "    plt.show()\n",
        "    return preds\n",
        "\n",
        "# Оцінюємо модель на трен і вал даних\n",
        "train_preds = predict_and_plot(model_pipeline, train_inputs, train_targets, 'Training')\n",
        "val_preds = predict_and_plot(model_pipeline, val_inputs, val_targets, 'Validation')\n",
        "\n",
        "# Зберігаємо модель для подальшого використання\n",
        "joblib.dump(model_pipeline, 'model_pipeline.pkl')\n"
      ],
      "metadata": {
        "id": "0LZialdo4IPZ",
        "colab": {
          "base_uri": "https://localhost:8080/",
          "height": 1000
        },
        "outputId": "6fb49f3b-64fc-43eb-b2ba-10404c6f8158"
      },
      "execution_count": 53,
      "outputs": [
        {
          "output_type": "stream",
          "name": "stdout",
          "text": [
            "F1 SCORE for Training: 0.65\n",
            "Area under ROC score on Training dataset: 0.88%\n"
          ]
        },
        {
          "output_type": "display_data",
          "data": {
            "text/plain": [
              "<Figure size 640x480 with 2 Axes>"
            ],
            "image/png": "[encoded data removed]"
          },
          "metadata": {}
        },
        {
          "output_type": "stream",
          "name": "stdout",
          "text": [
            "F1 SCORE for Validation: 0.63\n",
            "Area under ROC score on Validation dataset: 0.88%\n"
          ]
        },
        {
          "output_type": "display_data",
          "data": {
            "text/plain": [
              "<Figure size 640x480 with 2 Axes>"
            ],
            "image/png": "[encoded data removed]"
          },
          "metadata": {}
        },
        {
          "output_type": "execute_result",
          "data": {
            "text/plain": [
              "['model_pipeline.pkl']"
            ]
          },
          "metadata": {},
          "execution_count": 53
        }
      ]
    },
    {
      "cell_type": "markdown",
      "source": [
        "**Завдання 2**. Такс, у нас з вами є вже готовий пайплайн. Давайте проведемо нові експерименти.\n",
        "\n",
        "  Додайте в попередню обробку числових колонок генерацію polinomal features до степені 2 включно. Для цього створіть новий препроцесор і створіть новий пайплайн.\n",
        "\n",
        "  Запустіть пайплайн на тренування і виведіть метрики для тренувального і валідаційного набору. Напишіть, як вам модель? Чи спостерігається в цій моделі overfit чи underfit? Чи ця модель добре генералізує?"
      ],
      "metadata": {
        "id": "PXrc2NCa5lAK"
      }
    },
    {
      "cell_type": "code",
      "source": [
        "numeric_transformer = Pipeline(steps=[\n",
        "    ('imputer', SimpleImputer(strategy='mean')),\n",
        "    ('poly', PolynomialFeatures(degree=2, include_bias=False)),\n",
        "    ('scaler', MinMaxScaler())\n",
        "])\n",
        "\n",
        "preprocessor = ColumnTransformer(\n",
        "    transformers=[\n",
        "        ('num', numeric_transformer, numeric_cols),\n",
        "        ('cat', categorical_transformer, categorical_cols)\n",
        "    ])\n",
        "\n",
        "# Стоврюємо пайплайн, який спочатку запускає препроцесинг, потім тренуєм модель\n",
        "model_pipeline = Pipeline(steps=[\n",
        "    ('preprocessor', preprocessor),\n",
        "    ('classifier', LogisticRegression(solver='liblinear', class_weight='balanced'))\n",
        "])\n",
        "\n",
        "# Тренуємо пайплайн\n",
        "model_pipeline.fit(train_inputs, train_targets)\n",
        "train_preds = predict_and_plot(model_pipeline, train_inputs, train_targets, 'Training')\n",
        "val_preds = predict_and_plot(model_pipeline, val_inputs, val_targets, 'Validation')\n",
        "joblib.dump(model_pipeline, 'model_polin_2_pipeline.pkl')"
      ],
      "metadata": {
        "id": "TjcmWMTOOjJ1",
        "colab": {
          "base_uri": "https://localhost:8080/",
          "height": 1000
        },
        "outputId": "0bfb724f-0036-443f-f2f8-3f9f20ae581e"
      },
      "execution_count": 54,
      "outputs": [
        {
          "output_type": "stream",
          "name": "stdout",
          "text": [
            "F1 SCORE for Training: 0.69\n",
            "Area under ROC score on Training dataset: 0.92%\n"
          ]
        },
        {
          "output_type": "display_data",
          "data": {
            "text/plain": [
              "<Figure size 640x480 with 2 Axes>"
            ],
            "image/png": "[encoded data removed]"
          },
          "metadata": {}
        },
        {
          "output_type": "stream",
          "name": "stdout",
          "text": [
            "F1 SCORE for Validation: 0.68\n",
            "Area under ROC score on Validation dataset: 0.91%\n"
          ]
        },
        {
          "output_type": "display_data",
          "data": {
            "text/plain": [
              "<Figure size 640x480 with 2 Axes>"
            ],
            "image/png": "[encoded data removed]"
          },
          "metadata": {}
        },
        {
          "output_type": "execute_result",
          "data": {
            "text/plain": [
              "['model_polin_2_pipeline.pkl']"
            ]
          },
          "metadata": {},
          "execution_count": 54
        }
      ]
    },
    {
      "cell_type": "markdown",
      "source": [
        "Ця можель по всім показникам стала перформити краще. Бачимо, що Area under ROC стала > 90%. Бачимо що результати на тренувальних та валідаційних даних майже однакові тому тут немає overfit чи underfit, а значить модель доволі непогано генералізує."
      ],
      "metadata": {
        "id": "ckfJ3AC6yS3Y"
      }
    },
    {
      "cell_type": "markdown",
      "source": [
        "**Завдання 3**. Тепер давайте створимо ще новий пайплайн, тільки тепер поліноміальні ознаки згенеруємо до степені 4. Зробіть висновок про якість моделі. Якщо вам подобається резульат якоїсь з моделей в цьому ДЗ - рекомендую зробити submission в змаганні."
      ],
      "metadata": {
        "id": "tkmEmHaP8Pen"
      }
    },
    {
      "cell_type": "code",
      "source": [
        "numeric_transformer = Pipeline(steps=[\n",
        "    ('imputer', SimpleImputer(strategy='mean')),\n",
        "    ('poly', PolynomialFeatures(degree=4, include_bias=False)),\n",
        "    ('scaler', MinMaxScaler())\n",
        "])\n",
        "\n",
        "preprocessor = ColumnTransformer(\n",
        "    transformers=[\n",
        "        ('num', numeric_transformer, numeric_cols),\n",
        "        ('cat', categorical_transformer, categorical_cols)\n",
        "    ])\n",
        "\n",
        "# Стоврюємо пайплайн, який спочатку запускає препроцесинг, потім тренуєм модель\n",
        "model_pipeline = Pipeline(steps=[\n",
        "    ('preprocessor', preprocessor),\n",
        "    ('classifier', LogisticRegression(solver='liblinear', class_weight='balanced'))\n",
        "])\n",
        "\n",
        "# Тренуємо пайплайн\n",
        "model_pipeline.fit(train_inputs, train_targets)\n",
        "train_preds = predict_and_plot(model_pipeline, train_inputs, train_targets, 'Training')\n",
        "val_preds = predict_and_plot(model_pipeline, val_inputs, val_targets, 'Validation')\n",
        "joblib.dump(model_pipeline, 'model_polin_4_pipeline.pkl')"
      ],
      "metadata": {
        "id": "OsT-MDWuOkDY",
        "colab": {
          "base_uri": "https://localhost:8080/",
          "height": 1000
        },
        "outputId": "f510325d-5fd1-4c7d-dd5f-6b8cbd8c035c"
      },
      "execution_count": 55,
      "outputs": [
        {
          "output_type": "stream",
          "name": "stdout",
          "text": [
            "F1 SCORE for Training: 0.71\n",
            "Area under ROC score on Training dataset: 0.93%\n"
          ]
        },
        {
          "output_type": "display_data",
          "data": {
            "text/plain": [
              "<Figure size 640x480 with 2 Axes>"
            ],
            "image/png": "[encoded data removed]"
          },
          "metadata": {}
        },
        {
          "output_type": "stream",
          "name": "stdout",
          "text": [
            "F1 SCORE for Validation: 0.71\n",
            "Area under ROC score on Validation dataset: 0.93%\n"
          ]
        },
        {
          "output_type": "display_data",
          "data": {
            "text/plain": [
              "<Figure size 640x480 with 2 Axes>"
            ],
            "image/png": "[encoded data removed]"
          },
          "metadata": {}
        },
        {
          "output_type": "execute_result",
          "data": {
            "text/plain": [
              "['model_polin_4_pipeline.pkl']"
            ]
          },
          "metadata": {},
          "execution_count": 55
        }
      ]
    },
    {
      "cell_type": "markdown",
      "source": [
        "Поліноміальна модель з 4 сетепенню заперформила дуже добре, при чому результати на тренувальних та валідаційних даних однакові, що свідчить про хорошу здатність моделі генералізувати дані."
      ],
      "metadata": {
        "id": "ZW9XBEfl0mDm"
      }
    },
    {
      "cell_type": "code",
      "source": [
        "test_raw_df = pd.read_csv(\"test.csv\")\n",
        "predictions = model_pipeline.predict_proba(test_raw_df)[:, 1]\n",
        "\n",
        "test_raw_df['Exited'] = predictions\n",
        "\n",
        "test_raw_df.head()\n",
        "\n",
        "sample_submission_df = pd.read_csv('sample_submission.csv')\n",
        "print(sample_submission_df.head())\n",
        "\n",
        "sample_submission_df['Exited'] = test_raw_df['Exited']\n",
        "print(sample_submission_df.head())\n",
        "\n",
        "sample_submission_df.to_csv('submission_poli4reg.csv', index=False)\n",
        "pd.read_csv('submission_poli4reg.csv').head()"
      ],
      "metadata": {
        "colab": {
          "base_uri": "https://localhost:8080/",
          "height": 414
        },
        "id": "WSNBc98-1A-K",
        "outputId": "bee0dbcb-c23f-43da-b914-4fd6ec860c35"
      },
      "execution_count": 34,
      "outputs": [
        {
          "output_type": "stream",
          "name": "stdout",
          "text": [
            "      id  Exited\n",
            "0  15000     0.5\n",
            "1  15001     0.5\n",
            "2  15002     0.5\n",
            "3  15003     0.5\n",
            "4  15004     0.5\n",
            "      id    Exited\n",
            "0  15000  0.262198\n",
            "1  15001  0.073374\n",
            "2  15002  0.211022\n",
            "3  15003  0.681774\n",
            "4  15004  0.085519\n"
          ]
        },
        {
          "output_type": "execute_result",
          "data": {
            "text/plain": [
              "      id    Exited\n",
              "0  15000  0.262198\n",
              "1  15001  0.073374\n",
              "2  15002  0.211022\n",
              "3  15003  0.681774\n",
              "4  15004  0.085519"
            ],
            "text/html": [
              "\n",
              "  <div id=\"df-e4e947f1-c6a7-465a-912e-c88e2d2c9d6b\" class=\"colab-df-container\">\n",
              "    <div>\n",
              "<style scoped>\n",
              "    .dataframe tbody tr th:only-of-type {\n",
              "        vertical-align: middle;\n",
              "    }\n",
              "\n",
              "    .dataframe tbody tr th {\n",
              "        vertical-align: top;\n",
              "    }\n",
              "\n",
              "    .dataframe thead th {\n",
              "        text-align: right;\n",
              "    }\n",
              "</style>\n",
              "<table border=\"1\" class=\"dataframe\">\n",
              "  <thead>\n",
              "    <tr style=\"text-align: right;\">\n",
              "      <th></th>\n",
              "      <th>id</th>\n",
              "      <th>Exited</th>\n",
              "    </tr>\n",
              "  </thead>\n",
              "  <tbody>\n",
              "    <tr>\n",
              "      <th>0</th>\n",
              "      <td>15000</td>\n",
              "      <td>0.262198</td>\n",
              "    </tr>\n",
              "    <tr>\n",
              "      <th>1</th>\n",
              "      <td>15001</td>\n",
              "      <td>0.073374</td>\n",
              "    </tr>\n",
              "    <tr>\n",
              "      <th>2</th>\n",
              "      <td>15002</td>\n",
              "      <td>0.211022</td>\n",
              "    </tr>\n",
              "    <tr>\n",
              "      <th>3</th>\n",
              "      <td>15003</td>\n",
              "      <td>0.681774</td>\n",
              "    </tr>\n",
              "    <tr>\n",
              "      <th>4</th>\n",
              "      <td>15004</td>\n",
              "      <td>0.085519</td>\n",
              "    </tr>\n",
              "  </tbody>\n",
              "</table>\n",
              "</div>\n",
              "    <div class=\"colab-df-buttons\">\n",
              "\n",
              "  <div class=\"colab-df-container\">\n",
              "    <button class=\"colab-df-convert\" onclick=\"convertToInteractive('df-e4e947f1-c6a7-465a-912e-c88e2d2c9d6b')\"\n",
              "            title=\"Convert this dataframe to an interactive table.\"\n",
              "            style=\"display:none;\">\n",
              "\n",
              "  <svg xmlns=\"http://www.w3.org/2000/svg\" height=\"24px\" viewBox=\"0 -960 960 960\">\n",
              "    <path d=\"M120-120v-720h720v720H120Zm60-500h600v-160H180v160Zm220 220h160v-160H400v160Zm0 220h160v-160H400v160ZM180-400h160v-160H180v160Zm440 0h160v-160H620v160ZM180-180h160v-160H180v160Zm440 0h160v-160H620v160Z\"/>\n",
              "  </svg>\n",
              "    </button>\n",
              "\n",
              "  <style>\n",
              "    .colab-df-container {\n",
              "      display:flex;\n",
              "      gap: 12px;\n",
              "    }\n",
              "\n",
              "    .colab-df-convert {\n",
              "      background-color: #E8F0FE;\n",
              "      border: none;\n",
              "      border-radius: 50%;\n",
              "      cursor: pointer;\n",
              "      display: none;\n",
              "      fill: #1967D2;\n",
              "      height: 32px;\n",
              "      padding: 0 0 0 0;\n",
              "      width: 32px;\n",
              "    }\n",
              "\n",
              "    .colab-df-convert:hover {\n",
              "      background-color: #E2EBFA;\n",
              "      box-shadow: 0px 1px 2px rgba(60, 64, 67, 0.3), 0px 1px 3px 1px rgba(60, 64, 67, 0.15);\n",
              "      fill: #174EA6;\n",
              "    }\n",
              "\n",
              "    .colab-df-buttons div {\n",
              "      margin-bottom: 4px;\n",
              "    }\n",
              "\n",
              "    [theme=dark] .colab-df-convert {\n",
              "      background-color: #3B4455;\n",
              "      fill: #D2E3FC;\n",
              "    }\n",
              "\n",
              "    [theme=dark] .colab-df-convert:hover {\n",
              "      background-color: #434B5C;\n",
              "      box-shadow: 0px 1px 3px 1px rgba(0, 0, 0, 0.15);\n",
              "      filter: drop-shadow(0px 1px 2px rgba(0, 0, 0, 0.3));\n",
              "      fill: #FFFFFF;\n",
              "    }\n",
              "  </style>\n",
              "\n",
              "    <script>\n",
              "      const buttonEl =\n",
              "        document.querySelector('#df-e4e947f1-c6a7-465a-912e-c88e2d2c9d6b button.colab-df-convert');\n",
              "      buttonEl.style.display =\n",
              "        google.colab.kernel.accessAllowed ? 'block' : 'none';\n",
              "\n",
              "      async function convertToInteractive(key) {\n",
              "        const element = document.querySelector('#df-e4e947f1-c6a7-465a-912e-c88e2d2c9d6b');\n",
              "        const dataTable =\n",
              "          await google.colab.kernel.invokeFunction('convertToInteractive',\n",
              "                                                    [key], {});\n",
              "        if (!dataTable) return;\n",
              "\n",
              "        const docLinkHtml = 'Like what you see? Visit the ' +\n",
              "          '<a target=\"_blank\" href=https://colab.research.google.com/notebooks/data_table.ipynb>data table notebook</a>'\n",
              "          + ' to learn more about interactive tables.';\n",
              "        element.innerHTML = '';\n",
              "        dataTable['output_type'] = 'display_data';\n",
              "        await google.colab.output.renderOutput(dataTable, element);\n",
              "        const docLink = document.createElement('div');\n",
              "        docLink.innerHTML = docLinkHtml;\n",
              "        element.appendChild(docLink);\n",
              "      }\n",
              "    </script>\n",
              "  </div>\n",
              "\n",
              "\n",
              "<div id=\"df-343710d2-9407-4808-b414-32ea8e2d9de6\">\n",
              "  <button class=\"colab-df-quickchart\" onclick=\"quickchart('df-343710d2-9407-4808-b414-32ea8e2d9de6')\"\n",
              "            title=\"Suggest charts\"\n",
              "            style=\"display:none;\">\n",
              "\n",
              "<svg xmlns=\"http://www.w3.org/2000/svg\" height=\"24px\"viewBox=\"0 0 24 24\"\n",
              "     width=\"24px\">\n",
              "    <g>\n",
              "        <path d=\"M19 3H5c-1.1 0-2 .9-2 2v14c0 1.1.9 2 2 2h14c1.1 0 2-.9 2-2V5c0-1.1-.9-2-2-2zM9 17H7v-7h2v7zm4 0h-2V7h2v10zm4 0h-2v-4h2v4z\"/>\n",
              "    </g>\n",
              "</svg>\n",
              "  </button>\n",
              "\n",
              "<style>\n",
              "  .colab-df-quickchart {\n",
              "      --bg-color: #E8F0FE;\n",
              "      --fill-color: #1967D2;\n",
              "      --hover-bg-color: #E2EBFA;\n",
              "      --hover-fill-color: #174EA6;\n",
              "      --disabled-fill-color: #AAA;\n",
              "      --disabled-bg-color: #DDD;\n",
              "  }\n",
              "\n",
              "  [theme=dark] .colab-df-quickchart {\n",
              "      --bg-color: #3B4455;\n",
              "      --fill-color: #D2E3FC;\n",
              "      --hover-bg-color: #434B5C;\n",
              "      --hover-fill-color: #FFFFFF;\n",
              "      --disabled-bg-color: #3B4455;\n",
              "      --disabled-fill-color: #666;\n",
              "  }\n",
              "\n",
              "  .colab-df-quickchart {\n",
              "    background-color: var(--bg-color);\n",
              "    border: none;\n",
              "    border-radius: 50%;\n",
              "    cursor: pointer;\n",
              "    display: none;\n",
              "    fill: var(--fill-color);\n",
              "    height: 32px;\n",
              "    padding: 0;\n",
              "    width: 32px;\n",
              "  }\n",
              "\n",
              "  .colab-df-quickchart:hover {\n",
              "    background-color: var(--hover-bg-color);\n",
              "    box-shadow: 0 1px 2px rgba(60, 64, 67, 0.3), 0 1px 3px 1px rgba(60, 64, 67, 0.15);\n",
              "    fill: var(--button-hover-fill-color);\n",
              "  }\n",
              "\n",
              "  .colab-df-quickchart-complete:disabled,\n",
              "  .colab-df-quickchart-complete:disabled:hover {\n",
              "    background-color: var(--disabled-bg-color);\n",
              "    fill: var(--disabled-fill-color);\n",
              "    box-shadow: none;\n",
              "  }\n",
              "\n",
              "  .colab-df-spinner {\n",
              "    border: 2px solid var(--fill-color);\n",
              "    border-color: transparent;\n",
              "    border-bottom-color: var(--fill-color);\n",
              "    animation:\n",
              "      spin 1s steps(1) infinite;\n",
              "  }\n",
              "\n",
              "  @keyframes spin {\n",
              "    0% {\n",
              "      border-color: transparent;\n",
              "      border-bottom-color: var(--fill-color);\n",
              "      border-left-color: var(--fill-color);\n",
              "    }\n",
              "    20% {\n",
              "      border-color: transparent;\n",
              "      border-left-color: var(--fill-color);\n",
              "      border-top-color: var(--fill-color);\n",
              "    }\n",
              "    30% {\n",
              "      border-color: transparent;\n",
              "      border-left-color: var(--fill-color);\n",
              "      border-top-color: var(--fill-color);\n",
              "      border-right-color: var(--fill-color);\n",
              "    }\n",
              "    40% {\n",
              "      border-color: transparent;\n",
              "      border-right-color: var(--fill-color);\n",
              "      border-top-color: var(--fill-color);\n",
              "    }\n",
              "    60% {\n",
              "      border-color: transparent;\n",
              "      border-right-color: var(--fill-color);\n",
              "    }\n",
              "    80% {\n",
              "      border-color: transparent;\n",
              "      border-right-color: var(--fill-color);\n",
              "      border-bottom-color: var(--fill-color);\n",
              "    }\n",
              "    90% {\n",
              "      border-color: transparent;\n",
              "      border-bottom-color: var(--fill-color);\n",
              "    }\n",
              "  }\n",
              "</style>\n",
              "\n",
              "  <script>\n",
              "    async function quickchart(key) {\n",
              "      const quickchartButtonEl =\n",
              "        document.querySelector('#' + key + ' button');\n",
              "      quickchartButtonEl.disabled = true;  // To prevent multiple clicks.\n",
              "      quickchartButtonEl.classList.add('colab-df-spinner');\n",
              "      try {\n",
              "        const charts = await google.colab.kernel.invokeFunction(\n",
              "            'suggestCharts', [key], {});\n",
              "      } catch (error) {\n",
              "        console.error('Error during call to suggestCharts:', error);\n",
              "      }\n",
              "      quickchartButtonEl.classList.remove('colab-df-spinner');\n",
              "      quickchartButtonEl.classList.add('colab-df-quickchart-complete');\n",
              "    }\n",
              "    (() => {\n",
              "      let quickchartButtonEl =\n",
              "        document.querySelector('#df-343710d2-9407-4808-b414-32ea8e2d9de6 button');\n",
              "      quickchartButtonEl.style.display =\n",
              "        google.colab.kernel.accessAllowed ? 'block' : 'none';\n",
              "    })();\n",
              "  </script>\n",
              "</div>\n",
              "    </div>\n",
              "  </div>\n"
            ],
            "application/vnd.google.colaboratory.intrinsic+json": {
              "type": "dataframe",
              "summary": "{\n  \"name\": \"pd\",\n  \"rows\": 5,\n  \"fields\": [\n    {\n      \"column\": \"id\",\n      \"properties\": {\n        \"dtype\": \"number\",\n        \"std\": 1,\n        \"min\": 15000,\n        \"max\": 15004,\n        \"num_unique_values\": 5,\n        \"samples\": [\n          15001,\n          15004,\n          15002\n        ],\n        \"semantic_type\": \"\",\n        \"description\": \"\"\n      }\n    },\n    {\n      \"column\": \"Exited\",\n      \"properties\": {\n        \"dtype\": \"number\",\n        \"std\": 0.24775536190109984,\n        \"min\": 0.0733741105388656,\n        \"max\": 0.6817735193126996,\n        \"num_unique_values\": 5,\n        \"samples\": [\n          0.0733741105388656,\n          0.0855190491123743,\n          0.2110215851880749\n        ],\n        \"semantic_type\": \"\",\n        \"description\": \"\"\n      }\n    }\n  ]\n}"
            }
          },
          "metadata": {},
          "execution_count": 34
        }
      ]
    },
    {
      "cell_type": "markdown",
      "source": [
        "**Завдання 4. Перенавчання і регуляризація**.\n",
        "\n",
        "  Скачайте набір даних `regression_data.csv`. Звичайте набір даних з `regression_data.csv`, розбийте на train і test (в тест 20%) і натренуйте модель лінійної регресії з масштабуванням числових ознак і поліноміальними ознаками до степені **5 включно**.\n",
        "\n",
        "  Виміряйте якість прогностичної моделі і зробіть висновок, чи модель хороша, чи вона добре генералізує?\n"
      ],
      "metadata": {
        "id": "ozN2ONZGCBS6"
      }
    },
    {
      "cell_type": "code",
      "source": [
        "reg_df = pd.read_csv(\"regression_data.csv\")\n",
        "reg_df.describe()"
      ],
      "metadata": {
        "colab": {
          "base_uri": "https://localhost:8080/",
          "height": 300
        },
        "id": "8eio5uAtL_SX",
        "outputId": "664ebe95-5ced-450f-d610-67f4ff6072b6"
      },
      "execution_count": 106,
      "outputs": [
        {
          "output_type": "execute_result",
          "data": {
            "text/plain": [
              "        feature_1   feature_2   feature_3   feature_4   feature_5      target\n",
              "count  129.000000  129.000000  129.000000  129.000000  129.000000  129.000000\n",
              "mean    -0.082039   -0.017872    0.092293   -0.076084    0.053098   -3.902984\n",
              "std      0.941214    1.065887    0.978557    0.910588    1.004498   45.466621\n",
              "min     -3.241267   -2.619745   -1.913280   -2.211135   -2.301921 -111.753810\n",
              "25%     -0.699726   -0.756351   -0.553649   -0.730367   -0.772825  -37.339533\n",
              "50%     -0.066080   -0.161286    0.120296    0.018418    0.013002   -0.641298\n",
              "75%      0.529804    0.679598    0.624120    0.519347    0.787085   25.464414\n",
              "max      2.122156    3.852731    3.078881    2.314659    2.075401  115.125907"
            ],
            "text/html": [
              "\n",
              "  <div id=\"df-58d95022-ba97-4851-84f9-969816cfb7df\" class=\"colab-df-container\">\n",
              "    <div>\n",
              "<style scoped>\n",
              "    .dataframe tbody tr th:only-of-type {\n",
              "        vertical-align: middle;\n",
              "    }\n",
              "\n",
              "    .dataframe tbody tr th {\n",
              "        vertical-align: top;\n",
              "    }\n",
              "\n",
              "    .dataframe thead th {\n",
              "        text-align: right;\n",
              "    }\n",
              "</style>\n",
              "<table border=\"1\" class=\"dataframe\">\n",
              "  <thead>\n",
              "    <tr style=\"text-align: right;\">\n",
              "      <th></th>\n",
              "      <th>feature_1</th>\n",
              "      <th>feature_2</th>\n",
              "      <th>feature_3</th>\n",
              "      <th>feature_4</th>\n",
              "      <th>feature_5</th>\n",
              "      <th>target</th>\n",
              "    </tr>\n",
              "  </thead>\n",
              "  <tbody>\n",
              "    <tr>\n",
              "      <th>count</th>\n",
              "      <td>129.000000</td>\n",
              "      <td>129.000000</td>\n",
              "      <td>129.000000</td>\n",
              "      <td>129.000000</td>\n",
              "      <td>129.000000</td>\n",
              "      <td>129.000000</td>\n",
              "    </tr>\n",
              "    <tr>\n",
              "      <th>mean</th>\n",
              "      <td>-0.082039</td>\n",
              "      <td>-0.017872</td>\n",
              "      <td>0.092293</td>\n",
              "      <td>-0.076084</td>\n",
              "      <td>0.053098</td>\n",
              "      <td>-3.902984</td>\n",
              "    </tr>\n",
              "    <tr>\n",
              "      <th>std</th>\n",
              "      <td>0.941214</td>\n",
              "      <td>1.065887</td>\n",
              "      <td>0.978557</td>\n",
              "      <td>0.910588</td>\n",
              "      <td>1.004498</td>\n",
              "      <td>45.466621</td>\n",
              "    </tr>\n",
              "    <tr>\n",
              "      <th>min</th>\n",
              "      <td>-3.241267</td>\n",
              "      <td>-2.619745</td>\n",
              "      <td>-1.913280</td>\n",
              "      <td>-2.211135</td>\n",
              "      <td>-2.301921</td>\n",
              "      <td>-111.753810</td>\n",
              "    </tr>\n",
              "    <tr>\n",
              "      <th>25%</th>\n",
              "      <td>-0.699726</td>\n",
              "      <td>-0.756351</td>\n",
              "      <td>-0.553649</td>\n",
              "      <td>-0.730367</td>\n",
              "      <td>-0.772825</td>\n",
              "      <td>-37.339533</td>\n",
              "    </tr>\n",
              "    <tr>\n",
              "      <th>50%</th>\n",
              "      <td>-0.066080</td>\n",
              "      <td>-0.161286</td>\n",
              "      <td>0.120296</td>\n",
              "      <td>0.018418</td>\n",
              "      <td>0.013002</td>\n",
              "      <td>-0.641298</td>\n",
              "    </tr>\n",
              "    <tr>\n",
              "      <th>75%</th>\n",
              "      <td>0.529804</td>\n",
              "      <td>0.679598</td>\n",
              "      <td>0.624120</td>\n",
              "      <td>0.519347</td>\n",
              "      <td>0.787085</td>\n",
              "      <td>25.464414</td>\n",
              "    </tr>\n",
              "    <tr>\n",
              "      <th>max</th>\n",
              "      <td>2.122156</td>\n",
              "      <td>3.852731</td>\n",
              "      <td>3.078881</td>\n",
              "      <td>2.314659</td>\n",
              "      <td>2.075401</td>\n",
              "      <td>115.125907</td>\n",
              "    </tr>\n",
              "  </tbody>\n",
              "</table>\n",
              "</div>\n",
              "    <div class=\"colab-df-buttons\">\n",
              "\n",
              "  <div class=\"colab-df-container\">\n",
              "    <button class=\"colab-df-convert\" onclick=\"convertToInteractive('df-58d95022-ba97-4851-84f9-969816cfb7df')\"\n",
              "            title=\"Convert this dataframe to an interactive table.\"\n",
              "            style=\"display:none;\">\n",
              "\n",
              "  <svg xmlns=\"http://www.w3.org/2000/svg\" height=\"24px\" viewBox=\"0 -960 960 960\">\n",
              "    <path d=\"M120-120v-720h720v720H120Zm60-500h600v-160H180v160Zm220 220h160v-160H400v160Zm0 220h160v-160H400v160ZM180-400h160v-160H180v160Zm440 0h160v-160H620v160ZM180-180h160v-160H180v160Zm440 0h160v-160H620v160Z\"/>\n",
              "  </svg>\n",
              "    </button>\n",
              "\n",
              "  <style>\n",
              "    .colab-df-container {\n",
              "      display:flex;\n",
              "      gap: 12px;\n",
              "    }\n",
              "\n",
              "    .colab-df-convert {\n",
              "      background-color: #E8F0FE;\n",
              "      border: none;\n",
              "      border-radius: 50%;\n",
              "      cursor: pointer;\n",
              "      display: none;\n",
              "      fill: #1967D2;\n",
              "      height: 32px;\n",
              "      padding: 0 0 0 0;\n",
              "      width: 32px;\n",
              "    }\n",
              "\n",
              "    .colab-df-convert:hover {\n",
              "      background-color: #E2EBFA;\n",
              "      box-shadow: 0px 1px 2px rgba(60, 64, 67, 0.3), 0px 1px 3px 1px rgba(60, 64, 67, 0.15);\n",
              "      fill: #174EA6;\n",
              "    }\n",
              "\n",
              "    .colab-df-buttons div {\n",
              "      margin-bottom: 4px;\n",
              "    }\n",
              "\n",
              "    [theme=dark] .colab-df-convert {\n",
              "      background-color: #3B4455;\n",
              "      fill: #D2E3FC;\n",
              "    }\n",
              "\n",
              "    [theme=dark] .colab-df-convert:hover {\n",
              "      background-color: #434B5C;\n",
              "      box-shadow: 0px 1px 3px 1px rgba(0, 0, 0, 0.15);\n",
              "      filter: drop-shadow(0px 1px 2px rgba(0, 0, 0, 0.3));\n",
              "      fill: #FFFFFF;\n",
              "    }\n",
              "  </style>\n",
              "\n",
              "    <script>\n",
              "      const buttonEl =\n",
              "        document.querySelector('#df-58d95022-ba97-4851-84f9-969816cfb7df button.colab-df-convert');\n",
              "      buttonEl.style.display =\n",
              "        google.colab.kernel.accessAllowed ? 'block' : 'none';\n",
              "\n",
              "      async function convertToInteractive(key) {\n",
              "        const element = document.querySelector('#df-58d95022-ba97-4851-84f9-969816cfb7df');\n",
              "        const dataTable =\n",
              "          await google.colab.kernel.invokeFunction('convertToInteractive',\n",
              "                                                    [key], {});\n",
              "        if (!dataTable) return;\n",
              "\n",
              "        const docLinkHtml = 'Like what you see? Visit the ' +\n",
              "          '<a target=\"_blank\" href=https://colab.research.google.com/notebooks/data_table.ipynb>data table notebook</a>'\n",
              "          + ' to learn more about interactive tables.';\n",
              "        element.innerHTML = '';\n",
              "        dataTable['output_type'] = 'display_data';\n",
              "        await google.colab.output.renderOutput(dataTable, element);\n",
              "        const docLink = document.createElement('div');\n",
              "        docLink.innerHTML = docLinkHtml;\n",
              "        element.appendChild(docLink);\n",
              "      }\n",
              "    </script>\n",
              "  </div>\n",
              "\n",
              "\n",
              "<div id=\"df-61d3a77f-e25b-4c77-a949-c11e7b8c7633\">\n",
              "  <button class=\"colab-df-quickchart\" onclick=\"quickchart('df-61d3a77f-e25b-4c77-a949-c11e7b8c7633')\"\n",
              "            title=\"Suggest charts\"\n",
              "            style=\"display:none;\">\n",
              "\n",
              "<svg xmlns=\"http://www.w3.org/2000/svg\" height=\"24px\"viewBox=\"0 0 24 24\"\n",
              "     width=\"24px\">\n",
              "    <g>\n",
              "        <path d=\"M19 3H5c-1.1 0-2 .9-2 2v14c0 1.1.9 2 2 2h14c1.1 0 2-.9 2-2V5c0-1.1-.9-2-2-2zM9 17H7v-7h2v7zm4 0h-2V7h2v10zm4 0h-2v-4h2v4z\"/>\n",
              "    </g>\n",
              "</svg>\n",
              "  </button>\n",
              "\n",
              "<style>\n",
              "  .colab-df-quickchart {\n",
              "      --bg-color: #E8F0FE;\n",
              "      --fill-color: #1967D2;\n",
              "      --hover-bg-color: #E2EBFA;\n",
              "      --hover-fill-color: #174EA6;\n",
              "      --disabled-fill-color: #AAA;\n",
              "      --disabled-bg-color: #DDD;\n",
              "  }\n",
              "\n",
              "  [theme=dark] .colab-df-quickchart {\n",
              "      --bg-color: #3B4455;\n",
              "      --fill-color: #D2E3FC;\n",
              "      --hover-bg-color: #434B5C;\n",
              "      --hover-fill-color: #FFFFFF;\n",
              "      --disabled-bg-color: #3B4455;\n",
              "      --disabled-fill-color: #666;\n",
              "  }\n",
              "\n",
              "  .colab-df-quickchart {\n",
              "    background-color: var(--bg-color);\n",
              "    border: none;\n",
              "    border-radius: 50%;\n",
              "    cursor: pointer;\n",
              "    display: none;\n",
              "    fill: var(--fill-color);\n",
              "    height: 32px;\n",
              "    padding: 0;\n",
              "    width: 32px;\n",
              "  }\n",
              "\n",
              "  .colab-df-quickchart:hover {\n",
              "    background-color: var(--hover-bg-color);\n",
              "    box-shadow: 0 1px 2px rgba(60, 64, 67, 0.3), 0 1px 3px 1px rgba(60, 64, 67, 0.15);\n",
              "    fill: var(--button-hover-fill-color);\n",
              "  }\n",
              "\n",
              "  .colab-df-quickchart-complete:disabled,\n",
              "  .colab-df-quickchart-complete:disabled:hover {\n",
              "    background-color: var(--disabled-bg-color);\n",
              "    fill: var(--disabled-fill-color);\n",
              "    box-shadow: none;\n",
              "  }\n",
              "\n",
              "  .colab-df-spinner {\n",
              "    border: 2px solid var(--fill-color);\n",
              "    border-color: transparent;\n",
              "    border-bottom-color: var(--fill-color);\n",
              "    animation:\n",
              "      spin 1s steps(1) infinite;\n",
              "  }\n",
              "\n",
              "  @keyframes spin {\n",
              "    0% {\n",
              "      border-color: transparent;\n",
              "      border-bottom-color: var(--fill-color);\n",
              "      border-left-color: var(--fill-color);\n",
              "    }\n",
              "    20% {\n",
              "      border-color: transparent;\n",
              "      border-left-color: var(--fill-color);\n",
              "      border-top-color: var(--fill-color);\n",
              "    }\n",
              "    30% {\n",
              "      border-color: transparent;\n",
              "      border-left-color: var(--fill-color);\n",
              "      border-top-color: var(--fill-color);\n",
              "      border-right-color: var(--fill-color);\n",
              "    }\n",
              "    40% {\n",
              "      border-color: transparent;\n",
              "      border-right-color: var(--fill-color);\n",
              "      border-top-color: var(--fill-color);\n",
              "    }\n",
              "    60% {\n",
              "      border-color: transparent;\n",
              "      border-right-color: var(--fill-color);\n",
              "    }\n",
              "    80% {\n",
              "      border-color: transparent;\n",
              "      border-right-color: var(--fill-color);\n",
              "      border-bottom-color: var(--fill-color);\n",
              "    }\n",
              "    90% {\n",
              "      border-color: transparent;\n",
              "      border-bottom-color: var(--fill-color);\n",
              "    }\n",
              "  }\n",
              "</style>\n",
              "\n",
              "  <script>\n",
              "    async function quickchart(key) {\n",
              "      const quickchartButtonEl =\n",
              "        document.querySelector('#' + key + ' button');\n",
              "      quickchartButtonEl.disabled = true;  // To prevent multiple clicks.\n",
              "      quickchartButtonEl.classList.add('colab-df-spinner');\n",
              "      try {\n",
              "        const charts = await google.colab.kernel.invokeFunction(\n",
              "            'suggestCharts', [key], {});\n",
              "      } catch (error) {\n",
              "        console.error('Error during call to suggestCharts:', error);\n",
              "      }\n",
              "      quickchartButtonEl.classList.remove('colab-df-spinner');\n",
              "      quickchartButtonEl.classList.add('colab-df-quickchart-complete');\n",
              "    }\n",
              "    (() => {\n",
              "      let quickchartButtonEl =\n",
              "        document.querySelector('#df-61d3a77f-e25b-4c77-a949-c11e7b8c7633 button');\n",
              "      quickchartButtonEl.style.display =\n",
              "        google.colab.kernel.accessAllowed ? 'block' : 'none';\n",
              "    })();\n",
              "  </script>\n",
              "</div>\n",
              "    </div>\n",
              "  </div>\n"
            ],
            "application/vnd.google.colaboratory.intrinsic+json": {
              "type": "dataframe",
              "summary": "{\n  \"name\": \"reg_df\",\n  \"rows\": 8,\n  \"fields\": [\n    {\n      \"column\": \"feature_1\",\n      \"properties\": {\n        \"dtype\": \"number\",\n        \"std\": 45.659476963750336,\n        \"min\": -3.241267340069073,\n        \"max\": 129.0,\n        \"num_unique_values\": 8,\n        \"samples\": [\n          -0.08203858085243484,\n          -0.0660797986473165,\n          129.0\n        ],\n        \"semantic_type\": \"\",\n        \"description\": \"\"\n      }\n    },\n    {\n      \"column\": \"feature_2\",\n      \"properties\": {\n        \"dtype\": \"number\",\n        \"std\": 45.541771564301115,\n        \"min\": -2.6197451040897444,\n        \"max\": 129.0,\n        \"num_unique_values\": 8,\n        \"samples\": [\n          -0.017871667698533267,\n          -0.1612857116660091,\n          129.0\n        ],\n        \"semantic_type\": \"\",\n        \"description\": \"\"\n      }\n    },\n    {\n      \"column\": \"feature_3\",\n      \"properties\": {\n        \"dtype\": \"number\",\n        \"std\": 45.50773497829391,\n        \"min\": -1.913280244657798,\n        \"max\": 129.0,\n        \"num_unique_values\": 8,\n        \"samples\": [\n          0.09229290526117635,\n          0.1202956317118988,\n          129.0\n        ],\n        \"semantic_type\": \"\",\n        \"description\": \"\"\n      }\n    },\n    {\n      \"column\": \"feature_4\",\n      \"properties\": {\n        \"dtype\": \"number\",\n        \"std\": 45.589238656915775,\n        \"min\": -2.211135309007885,\n        \"max\": 129.0,\n        \"num_unique_values\": 8,\n        \"samples\": [\n          -0.07608356892846357,\n          0.0184183791895517,\n          129.0\n        ],\n        \"semantic_type\": \"\",\n        \"description\": \"\"\n      }\n    },\n    {\n      \"column\": \"feature_5\",\n      \"properties\": {\n        \"dtype\": \"number\",\n        \"std\": 45.58341869640477,\n        \"min\": -2.301921164735585,\n        \"max\": 129.0,\n        \"num_unique_values\": 8,\n        \"samples\": [\n          0.05309844641780919,\n          0.013001891877907,\n          129.0\n        ],\n        \"semantic_type\": \"\",\n        \"description\": \"\"\n      }\n    },\n    {\n      \"column\": \"target\",\n      \"properties\": {\n        \"dtype\": \"number\",\n        \"std\": 78.60606975917406,\n        \"min\": -111.75381023526477,\n        \"max\": 129.0,\n        \"num_unique_values\": 8,\n        \"samples\": [\n          -3.9029835552255245,\n          -0.6412979413328911,\n          129.0\n        ],\n        \"semantic_type\": \"\",\n        \"description\": \"\"\n      }\n    }\n  ]\n}"
            }
          },
          "metadata": {},
          "execution_count": 106
        }
      ]
    },
    {
      "cell_type": "code",
      "source": [
        "train_reg_df, val_reg_df = train_test_split(reg_df, test_size=0.2, random_state=42,)\n",
        "\n",
        "input_reg_cols = list(train_reg_df.columns)[:-1]\n",
        "target_reg_col = 'target'\n",
        "train_reg_inputs, train_reg_targets = train_reg_df[input_reg_cols], train_reg_df[target_reg_col]\n",
        "val_reg_inputs, val_reg_targets = val_reg_df[input_reg_cols], val_reg_df[target_reg_col]\n",
        "\n",
        "numeric_reg_transformer = Pipeline(steps=[\n",
        "    ('imputer', SimpleImputer(strategy='mean')),\n",
        "    ('poly', PolynomialFeatures(degree=5, include_bias=False)),\n",
        "    ('scaler', MinMaxScaler())\n",
        "])\n",
        "\n",
        "preprocessor_reg = ColumnTransformer(\n",
        "    transformers=[\n",
        "        ('num', numeric_reg_transformer, input_reg_cols),\n",
        "    ])\n",
        "\n",
        "model_reg_pipeline = Pipeline(steps=[\n",
        "    ('preprocessor', preprocessor_reg),\n",
        "    ('regressor', LinearRegression())\n",
        "])\n",
        "\n",
        "model_reg_pipeline.fit(train_reg_inputs, train_reg_targets)\n",
        "\n",
        "def evaluate_model(model, inputs, targets, name):\n",
        "    preds = model.predict(inputs)\n",
        "    mse = root_mean_squared_error(targets, preds)\n",
        "    rmse = np.sqrt(mse)\n",
        "    r2 = r2_score(targets, preds)\n",
        "    print(f\"{name} Metrics:\")\n",
        "    print(f\"  RMSE: {rmse:.4f}\")\n",
        "    print(f\"  R^2: {r2:.4f}\")\n",
        "\n",
        "    return preds\n",
        "\n",
        "train_reg_preds = evaluate_model(model_reg_pipeline, train_reg_inputs, train_reg_targets, 'Training')\n",
        "val_reg_preds = evaluate_model(model_reg_pipeline, val_reg_inputs, val_reg_targets, 'Validation')\n",
        "\n",
        "linear_model = model_reg_pipeline.named_steps['regressor']\n",
        "weights = linear_model.coef_\n",
        "intercept = linear_model.intercept_\n",
        "\n",
        "print(\"Ваги моделі (коефіцієнти):\", weights)\n",
        "print(\"Інтерсепт:\", intercept)"
      ],
      "metadata": {
        "id": "xbl0jQ3WOlgn",
        "colab": {
          "base_uri": "https://localhost:8080/"
        },
        "outputId": "d48a8ff5-b6da-4cb7-f5e3-7fc6907f32a2"
      },
      "execution_count": 107,
      "outputs": [
        {
          "output_type": "stream",
          "name": "stdout",
          "text": [
            "Training Metrics:\n",
            "  RMSE: 0.0000\n",
            "  R^2: 1.0000\n",
            "Validation Metrics:\n",
            "  RMSE: 3.5161\n",
            "  R^2: 0.9345\n",
            "Ваги моделі (коефіцієнти): [-1.64781059e+00  5.24368081e+00 -5.06624740e+00  2.03890244e+02\n",
            " -7.14195392e+00  8.85940724e+00  5.48455201e+00 -1.39391080e+00\n",
            " -1.33999095e+01  1.08591451e+01 -4.03944113e+00  5.30035184e+00\n",
            " -1.19490909e+01  2.35019742e+00 -1.49906752e+00  1.23151715e+00\n",
            " -1.44635264e+00 -3.19178684e+00 -1.35257726e+01  3.46534710e+00\n",
            "  3.82849450e+00 -1.29207790e+00  4.04822350e+00  1.27138767e+01\n",
            "  1.22046457e+01 -1.80049188e+00  3.11704543e+00  7.34170356e+00\n",
            "  1.46676026e+00 -4.23117026e+00  8.88675307e+00 -5.79526339e+00\n",
            " -5.51045379e-01 -6.74744797e+00 -6.87630016e+00  9.33673528e+00\n",
            "  6.06095471e+00  1.27335464e+01 -2.85943549e+00 -1.33724796e+01\n",
            "  1.12489567e+00 -1.19290599e+01 -1.60555724e+01 -6.98488064e+00\n",
            "  6.17168628e+00  1.26481783e+01  8.09268681e+00 -2.97618609e+00\n",
            "  3.88101609e+00 -3.46166584e+00  3.93975278e+00  1.44333192e+01\n",
            "  1.49101280e+01  1.19906241e+01  1.90949402e+01 -5.81456110e+00\n",
            " -3.38355603e+00  4.11789599e+00  2.69197717e+00 -5.52134154e+00\n",
            " -3.36377847e-01 -5.74957138e+00  1.35909942e+01 -1.52141958e+00\n",
            "  3.02826899e+00  4.22250745e+00  6.98282387e+00  5.00794225e+00\n",
            "  1.81552289e+01 -3.36635640e+00 -4.92554848e+00 -3.36834089e+00\n",
            " -3.94400807e+00  3.28154518e-01  1.17000179e+00  6.18832014e+00\n",
            " -2.08312259e+00 -4.27914512e+00 -1.80831241e-01 -9.98170012e+00\n",
            "  1.36209813e+01  7.04053489e+00 -1.17774050e-01 -5.91482666e+00\n",
            " -1.70981216e+01 -1.01455741e+01  2.65947875e+00 -8.59370184e+00\n",
            " -1.04390015e+00 -1.39267425e+01  7.44937269e-02 -4.96151739e+00\n",
            " -1.16277729e+00  3.01774352e+00  1.05826306e+01 -1.85258538e-02\n",
            " -4.69400060e+00 -3.10886451e+00  1.44190271e+00 -1.35631601e+00\n",
            "  1.69966646e+00  1.78994870e+00 -7.41524679e+00 -1.07113242e+01\n",
            " -3.31331697e+00  1.20363585e+01 -1.44109418e+00  9.41107812e+00\n",
            "  1.98829271e+01 -1.64657042e+01 -1.52349375e+00 -1.03243251e+01\n",
            "  5.65625180e+00 -6.34827405e+00  5.87341938e+00 -1.48240726e+01\n",
            "  5.88380228e-02 -4.04913633e+00  9.26971333e+00  5.73619972e+00\n",
            " -3.34178088e+00  7.21026077e+00  7.03702323e+00 -6.76079456e+00\n",
            " -1.12392130e+00 -7.48986307e-01  8.82610685e+00 -9.36044305e-01\n",
            " -2.25984202e+00 -1.16786818e+01 -9.72602626e-01  8.13484456e+00\n",
            " -3.78731831e+00 -2.55708143e+00  2.93831212e+00 -1.42285934e+00\n",
            "  5.98006847e+00 -4.24475862e+00  1.74449317e+00  2.52612093e+00\n",
            "  2.45539638e+00  2.32129765e+00 -2.76958449e+00 -5.80582770e+00\n",
            " -6.54314319e+00 -1.01676173e+01  8.17941272e+00 -1.15256205e+00\n",
            "  3.62115297e+00  3.58516436e+00 -8.51393090e-01 -3.88804785e+00\n",
            " -2.45576680e+00  4.05315094e+00 -2.54665201e+00  4.93141886e-01\n",
            "  5.21653944e+00  9.06825089e+00  2.05595385e+01  1.28960531e+01\n",
            "  7.77625479e-01 -4.07819747e+00 -1.58464321e+00 -6.29845165e+00\n",
            "  4.35347300e+00 -1.11454216e+01 -3.31350660e+00  2.85704348e+00\n",
            "  6.86898819e+00  1.45816312e+00 -1.15468493e+01 -4.01423833e-01\n",
            " -3.85330438e+00 -5.22139985e-01  6.72806206e+00 -2.34500941e+00\n",
            " -8.75197635e+00  4.29544123e+00 -6.56166399e+00 -1.17293770e-01\n",
            " -2.02886008e+00  5.29727865e+00 -2.73394688e+00  7.68234892e+00\n",
            "  5.36221461e-03 -3.74478714e+00  6.75082538e+00 -1.01534588e+00\n",
            " -1.49259272e+00 -1.55390904e+01  3.35036399e+00  4.35785104e+00\n",
            "  2.08247049e+00  2.65524925e+00 -1.06500228e+01  1.87479926e+00\n",
            " -1.59106335e-01  4.09772858e-01 -9.92775618e-01  5.26444715e+00\n",
            " -6.26748164e+00 -2.99826500e-01  4.33494438e+00  8.66190635e+00\n",
            "  2.88793729e+00  2.02154814e+00 -1.42123184e+00 -9.65431234e-01\n",
            " -2.36612860e+00  3.50226048e+00  1.88535209e+00 -5.61077324e+00\n",
            "  9.84445327e-01 -7.26999189e+00 -1.43037326e+00  3.87563953e+00\n",
            "  3.43765702e+00  3.46911353e+00 -1.20393682e+00  5.36751894e+00\n",
            " -3.24703542e+00 -1.45244616e-01 -5.67506397e+00 -3.67411589e+00\n",
            " -4.13868753e+00 -5.06970386e+00 -8.75205529e+00  8.36173380e+00\n",
            "  1.80279205e+01  1.83084513e+00  4.04335804e+00  1.83662047e+00\n",
            " -6.00648263e+00  1.35439963e+00  3.20854296e+00 -9.34745573e+00\n",
            "  1.34950246e+00  6.53250657e+00 -4.25420534e+00  1.04279741e+01\n",
            " -1.53664726e+00  1.29224548e+00 -7.08110193e+00  2.74378878e+00\n",
            " -1.73024516e+00 -7.95330590e-01 -1.51706079e+01 -6.32369358e+00\n",
            "  5.39840280e-01 -1.52212803e+00 -1.08827287e+01]\n",
            "Інтерсепт: -122.2907035869361\n"
          ]
        }
      ]
    },
    {
      "cell_type": "markdown",
      "source": [
        "Бачимо, що на тренувальних даних модель заперформила ідеально, а на валідаційних дуже велике RMSE. Спостерігаємо перенавчання моделі. Також бачимо дуже великі значення ваг."
      ],
      "metadata": {
        "id": "eOe93GvvDHhq"
      }
    },
    {
      "cell_type": "markdown",
      "source": [
        "**Завдання 5**. Натренуйте моделі Lasso(), Ridge(), ElasaticNet() на цих даних (з поліном ознаками до степені 20 включно), порівняйте якість з тою, яка була отримана з лінійною регресією. Яка модель найкраще генералізує і чому на ваш погляд (можливо треба буде для відповіді зробити додатковий аналіз ознак)?"
      ],
      "metadata": {
        "id": "JNUt-Q6UHkn7"
      }
    },
    {
      "cell_type": "code",
      "source": [
        "numeric_reg_transformer = Pipeline(steps=[\n",
        "    ('imputer', SimpleImputer(strategy='mean')),\n",
        "    ('poly', PolynomialFeatures(degree=20, include_bias=False)),\n",
        "    ('scaler', MinMaxScaler())\n",
        "])\n",
        "\n",
        "preprocessor_reg = ColumnTransformer(\n",
        "    transformers=[\n",
        "        ('num', numeric_reg_transformer, input_reg_cols),\n",
        "    ])\n",
        "\n",
        "def train_and_evaluate_model(model, model_name):\n",
        "    pipeline = Pipeline(steps=[\n",
        "        ('preprocessor', preprocessor_reg),\n",
        "        ('regressor', model)\n",
        "    ])\n",
        "    pipeline.fit(train_reg_inputs, train_reg_targets)\n",
        "\n",
        "    # Прогнозування\n",
        "    train_preds = pipeline.predict(train_reg_inputs)\n",
        "    val_preds = pipeline.predict(val_reg_inputs)\n",
        "\n",
        "    # Метрики\n",
        "    train_rmse = root_mean_squared_error(train_reg_targets, train_preds)\n",
        "    val_rmse = root_mean_squared_error(val_reg_targets, val_preds)\n",
        "    train_r2 = r2_score(train_reg_targets, train_preds)\n",
        "    val_r2 = r2_score(val_reg_targets, val_preds)\n",
        "\n",
        "    print(f\"=== {model_name} ===\")\n",
        "    print(f\"Training RMSE: {train_rmse:.4f}, R^2: {train_r2:.4f}\")\n",
        "    print(f\"Validation RMSE: {val_rmse:.4f}, R^2: {val_r2:.4f}\\n\")\n",
        "\n",
        "    return pipeline\n",
        "\n",
        "# Тренування моделей\n",
        "linear_model = train_and_evaluate_model(LinearRegression(), \"Linear Regression\")\n",
        "lasso_model = train_and_evaluate_model(Lasso(alpha=0.001, max_iter=10000), \"Lasso Regression\")\n",
        "ridge_model = train_and_evaluate_model(Ridge(alpha=1.0), \"Ridge Regression\")\n",
        "elasticnet_model = train_and_evaluate_model(ElasticNet(alpha=0.01, l1_ratio=0.5, max_iter=10000), \"ElasticNet Regression\")\n"
      ],
      "metadata": {
        "id": "y93ItPYdOnpE",
        "colab": {
          "base_uri": "https://localhost:8080/"
        },
        "outputId": "5b9b9e17-341b-4ccf-b1a9-b1045ab26a90"
      },
      "execution_count": 108,
      "outputs": [
        {
          "output_type": "stream",
          "name": "stdout",
          "text": [
            "=== Linear Regression ===\n",
            "Training RMSE: 0.0000, R^2: 1.0000\n",
            "Validation RMSE: 15.6743, R^2: 0.8947\n",
            "\n",
            "=== Lasso Regression ===\n",
            "Training RMSE: 0.5407, R^2: 0.9998\n",
            "Validation RMSE: 6.1142, R^2: 0.9840\n",
            "\n",
            "=== Ridge Regression ===\n",
            "Training RMSE: 8.5978, R^2: 0.9620\n",
            "Validation RMSE: 76.5627, R^2: -1.5125\n",
            "\n",
            "=== ElasticNet Regression ===\n",
            "Training RMSE: 5.7099, R^2: 0.9833\n",
            "Validation RMSE: 19.7731, R^2: 0.8324\n",
            "\n"
          ]
        }
      ]
    },
    {
      "cell_type": "markdown",
      "source": [
        "Загалом результати усіх моделей погані, бачимо, що всі моделі погано працюють з новими даним. Основні причини - дуже мало даних (всього 129 записів), використовуючи ступінь 20 ми генеруємо дуже багато додаткових фічей. Краще всьго себе показала лінійна модель з поліномом 5 степеня. Бачимо, що також лассо регрессія у порівннні з іншими моделями показала себе краще. Ця модель занулює коєфіцієнти, спробуємо вибрати ознаки з високою кореляцією з таргетом для покращення моделі."
      ],
      "metadata": {
        "id": "63b7O5bCOvzQ"
      }
    },
    {
      "cell_type": "code",
      "source": [
        "correlation_matrix = reg_df.corr()\n",
        "target_correlation = correlation_matrix['target']\n",
        "selected_columns = target_correlation[abs(target_correlation) > 0.15].index.tolist()\n",
        "\n",
        "selected_columns.remove('target')\n",
        "\n",
        "print(\"Колонки з кореляцією > 0.15:\", selected_columns)\n",
        "\n",
        "plt.figure(figsize=(10, 8))\n",
        "sns.heatmap(reg_df.corr(), annot=True, cmap='coolwarm', fmt='.2f')\n",
        "plt.title('Кореляційна теплокарта')\n",
        "plt.show()\n"
      ],
      "metadata": {
        "colab": {
          "base_uri": "https://localhost:8080/",
          "height": 716
        },
        "id": "xLPtB1W_NdnH",
        "outputId": "3013d891-e4c5-4f25-9d40-12ad8e95b2e5"
      },
      "execution_count": 109,
      "outputs": [
        {
          "output_type": "stream",
          "name": "stdout",
          "text": [
            "Колонки з кореляцією > 0.15: ['feature_4', 'feature_5']\n"
          ]
        },
        {
          "output_type": "display_data",
          "data": {
            "text/plain": [
              "<Figure size 1000x800 with 2 Axes>"
            ],
            "image/png": "[encoded data removed]"
          },
          "metadata": {}
        }
      ]
    },
    {
      "cell_type": "code",
      "source": [
        "preprocessor_reg = ColumnTransformer(\n",
        "    transformers=[\n",
        "        ('num', numeric_reg_transformer, selected_columns),\n",
        "    ])\n",
        "\n",
        "linear_model = train_and_evaluate_model(LinearRegression(), \"Linear Regression\")\n",
        "lasso_model = train_and_evaluate_model(Lasso(alpha=0.1, max_iter=10000), \"Lasso Regression\")\n",
        "ridge_model = train_and_evaluate_model(Ridge(alpha=1.0), \"Ridge Regression\")\n",
        "elasticnet_model = train_and_evaluate_model(ElasticNet(alpha=0.01, l1_ratio=0.5, max_iter=10000), \"ElasticNet Regression\")\n"
      ],
      "metadata": {
        "colab": {
          "base_uri": "https://localhost:8080/"
        },
        "id": "3R7xfiD4OLUq",
        "outputId": "2b00f674-ea60-411f-c18e-fc494bd56f05"
      },
      "execution_count": 124,
      "outputs": [
        {
          "output_type": "stream",
          "name": "stdout",
          "text": [
            "=== Linear Regression ===\n",
            "Training RMSE: 0.0000, R^2: 1.0000\n",
            "Validation RMSE: 14946256.3730, R^2: -95749810483.4864\n",
            "\n",
            "=== Lasso Regression ===\n",
            "Training RMSE: 1.1986, R^2: 0.9993\n",
            "Validation RMSE: 1.0046, R^2: 0.9996\n",
            "\n",
            "=== Ridge Regression ===\n",
            "Training RMSE: 8.9043, R^2: 0.9593\n",
            "Validation RMSE: 12.9665, R^2: 0.9279\n",
            "\n",
            "=== ElasticNet Regression ===\n",
            "Training RMSE: 5.7800, R^2: 0.9828\n",
            "Validation RMSE: 6.6650, R^2: 0.9810\n",
            "\n"
          ]
        }
      ]
    },
    {
      "cell_type": "markdown",
      "source": [
        "Показники моделей з регуляризацією покращилися. Найкраще показала себе лассо регрессія."
      ],
      "metadata": {
        "id": "MwEPe3pMP1xW"
      }
    }
  ]
}