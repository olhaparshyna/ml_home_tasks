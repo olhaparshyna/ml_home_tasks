{
  "nbformat": 4,
  "nbformat_minor": 0,
  "metadata": {
    "colab": {
      "provenance": [],
      "toc_visible": true
    },
    "kernelspec": {
      "name": "python3",
      "display_name": "Python 3"
    },
    "language_info": {
      "name": "python"
    }
  },
  "cells": [
    {
      "cell_type": "markdown",
      "source": [
        "### Завдання 1: Створення матриць та векторів\n",
        "1. Створіть `numpy` вектор `vector` розмірністю 10 з випадковими дійсними значеннями в діапазоні від 0 до 1. Можна скористатись двома альтернативними варіантами:\n",
        "  1. Генерація випадкових чисел з модулем [`random.uniform`](https://docs.python.org/3/library/random.html).\n",
        "  2. Створення вектора з допомогою метода `numpy` [np.random.rand](https://numpy.org/doc/stable/reference/random/generated/numpy.random.rand.html)\n",
        "\n",
        "2. Створіть матрицю `matrix` типу `numpy.array` розмірності 3x3 з наступними значеннями\n",
        "\n",
        "  $$\n",
        "  matrix = \\begin{bmatrix}\n",
        "  11 & 14 & 17 \\\\\n",
        "  20 & 23 & 26 \\\\\n",
        "  29 & 32 & 35\n",
        "  \\end{bmatrix}\n",
        "  $$\n",
        "\n",
        "  будь-яким відомими Вам способом.\n",
        "\n",
        "Виведіть на екран вектор і матрицю, а також їх розміри.\n"
      ],
      "metadata": {
        "id": "efug1V4CM0lT"
      }
    },
    {
      "cell_type": "code",
      "source": [
        "import numpy as np\n",
        "import random\n",
        "\n",
        "vector = np.random.rand(10)\n",
        "\n",
        "A = np.array([[11, 14, 17],\n",
        "              [20, 23, 26],\n",
        "              [29, 32, 35]\n",
        "              ])\n",
        "\n",
        "\n",
        "print(\"Матриця A:\")\n",
        "print(A)\n",
        "print(\"\\nРозмір матриці A:\")\n",
        "print(A.shape)\n",
        "print(\"\\nВектор-рядок vector:\")\n",
        "print(vector)\n",
        "print(\"\\nРозмір вектора vector:\")\n",
        "print(vector.shape)"
      ],
      "metadata": {
        "id": "jxA_lG2_VIMe",
        "colab": {
          "base_uri": "https://localhost:8080/"
        },
        "outputId": "15b05769-57a8-4df9-e91f-18a930d20dca"
      },
      "execution_count": 55,
      "outputs": [
        {
          "output_type": "stream",
          "name": "stdout",
          "text": [
            "Матриця A:\n",
            "[[11 14 17]\n",
            " [20 23 26]\n",
            " [29 32 35]]\n",
            "\n",
            "Розмір матриці A:\n",
            "(3, 3)\n",
            "\n",
            "Вектор-рядок v:\n",
            "[0.36898467 0.50702725 0.41534971 0.13525283 0.59015391 0.87112179\n",
            " 0.07914631 0.2398888  0.24396414 0.14757819]\n",
            "\n",
            "Розмір вектора v:\n",
            "(10,)\n"
          ]
        }
      ]
    },
    {
      "cell_type": "markdown",
      "source": [
        "\n",
        "### Завдання 2: Операції над векторами та матрицями\n",
        "Виконайте кожну з зазначених операцій над зазначеними оʼєктами і виведіть результат на екран:\n",
        "1. Додайте до кожного значення вектора `vector` число 10 і округліть кожне значення до 2 знаків після коми без використання циклів.\n",
        "2. Помножте кожен елемент матриці з першого завдання на 2 без використання циклів.\n",
        "3. Створіть новий вектор, який містить квадрат кожного `vector` без циклів.\n"
      ],
      "metadata": {
        "id": "TSJ1P4OuOVe2"
      }
    },
    {
      "cell_type": "code",
      "source": [
        "# 1\n",
        "result = np.round(v + 10, 2)\n",
        "print(\"\\nv + 10:\")\n",
        "print(result)\n",
        "\n",
        "# 2\n",
        "A_mult_2 = 2 * A\n",
        "print(\"\\nA * 2:\")\n",
        "print(A_mult_2)\n",
        "\n",
        "# 3\n",
        "squared_vector = np.square(v)\n",
        "print(\"\\nv**2:\", squared_vector)\n"
      ],
      "metadata": {
        "id": "nAAojtyUVJXN",
        "colab": {
          "base_uri": "https://localhost:8080/"
        },
        "outputId": "ff6b2f25-bd36-45e1-ba2e-f12aab0dc42e"
      },
      "execution_count": 27,
      "outputs": [
        {
          "output_type": "stream",
          "name": "stdout",
          "text": [
            "\n",
            "v + 10:\n",
            "[10.89 10.4  10.72 10.8  10.56 10.31 10.87 10.24 10.18 10.07]\n",
            "\n",
            "A * 2:\n",
            "[[22 28 34]\n",
            " [40 46 52]\n",
            " [58 64 70]]\n",
            "\n",
            "v**2: [0.78774807 0.1568771  0.51299323 0.63777387 0.30864937 0.09588208\n",
            " 0.76002678 0.05840606 0.03104939 0.00513502]\n"
          ]
        }
      ]
    },
    {
      "cell_type": "markdown",
      "source": [
        "\n",
        "### Завдання 3: Множення матриць\n",
        "1. Задані дві матриці `A` і `B`розмірностями 3x2 та 2х3. Виконайте їхнє множення, щоб отримати матрицю 2x2. Виведіть результуючу матрицю `result_matrix` на екран.\n",
        "\n",
        "2. Заданий вектор `C` розмірністю 2х1. Подумайте спочатку, яку розмірність Ви отрмаєте, коли домножите `result_matrix` на вектор `C` і який результат буде. А потім виконайте множення і виведіть результат на екран.\n",
        "\n",
        "3. Задана матриця `D` розмірністю 2х2. Подумайте спочатку, яку розмірність Ви отрмаєте, коли домножите `result_matrix` на матрицю `D` і який результат буде. А потім виконайте множення і виведіть результат на екран."
      ],
      "metadata": {
        "id": "u6RvWVfhPy-k"
      }
    },
    {
      "cell_type": "code",
      "source": [
        "A = np.array(\n",
        "    [[0.18, 0.53],\n",
        "     [0.75, 0.47],\n",
        "     [0.35, 0.21]])\n",
        "\n",
        "B = np.array(\n",
        "    [[0.17, 0.58, 0.75],\n",
        "     [0.38, 0.11, 0.15]])\n",
        "\n",
        "C = np.array([[0], [1]])\n",
        "\n",
        "D = np.array([[0,1], [1,0]])\n",
        "\n",
        "display(A, B, C, D)"
      ],
      "metadata": {
        "id": "RwXfPzlbSJ44",
        "colab": {
          "base_uri": "https://localhost:8080/",
          "height": 173
        },
        "outputId": "8a4f141e-b93d-4cdb-9909-80f6cb35da99"
      },
      "execution_count": 40,
      "outputs": [
        {
          "output_type": "display_data",
          "data": {
            "text/plain": [
              "array([[0.18, 0.53],\n",
              "       [0.75, 0.47],\n",
              "       [0.35, 0.21]])"
            ]
          },
          "metadata": {}
        },
        {
          "output_type": "display_data",
          "data": {
            "text/plain": [
              "array([[0.17, 0.58, 0.75],\n",
              "       [0.38, 0.11, 0.15]])"
            ]
          },
          "metadata": {}
        },
        {
          "output_type": "display_data",
          "data": {
            "text/plain": [
              "array([[0],\n",
              "       [1]])"
            ]
          },
          "metadata": {}
        },
        {
          "output_type": "display_data",
          "data": {
            "text/plain": [
              "array([[0, 1],\n",
              "       [1, 0]])"
            ]
          },
          "metadata": {}
        }
      ]
    },
    {
      "cell_type": "code",
      "source": [
        "# 1 A * B\n",
        "print(\"\\nA * B:\")\n",
        "result_matrix = np.dot(B, A)\n",
        "print(result_matrix)\n",
        "\n",
        "# 2\n",
        "print(\"\\nC * result_matrix:\")\n",
        "print(result_matrix.shape, C.shape)\n",
        "# в результаті буде структура (вектор-масив) 2 х 1\n",
        "result_matrix_vector = np.dot(result_matrix, C)\n",
        "print(result_matrix_vector)\n",
        "\n",
        "# 3\n",
        "print(\"\\nD * result_matrix:\")\n",
        "# в результаті буде матриця 2 х 2\n",
        "D_result_matrix = np.dot(D, result_matrix)\n",
        "print(D_result_matrix)"
      ],
      "metadata": {
        "id": "z7-boTbhVKkj",
        "colab": {
          "base_uri": "https://localhost:8080/"
        },
        "outputId": "5078d0be-c660-4478-d1e4-fe253c973af3"
      },
      "execution_count": 51,
      "outputs": [
        {
          "output_type": "stream",
          "name": "stdout",
          "text": [
            "\n",
            "A * B:\n",
            "[[0.7281 0.5202]\n",
            " [0.2034 0.2846]]\n",
            "\n",
            "C * result_matrix:\n",
            "(2, 2) (2, 1)\n",
            "[[0.5202]\n",
            " [0.2846]]\n",
            "\n",
            "D * result_matrix:\n",
            "[[0.2034 0.2846]\n",
            " [0.7281 0.5202]]\n"
          ]
        }
      ]
    },
    {
      "cell_type": "markdown",
      "source": [
        "\n",
        "### Завдання 4: Транспонування матриць\n",
        "1. Транспонуйте `result_matrix`.\n",
        "2. Зробіть транспонування вектора `vector` і виведіть форму нової структури. Чи бачите ви зміну?\n",
        "3. Використайте операцію `numpy.expand_dims` над вектором `vector` з аргументом axis=1. Запишіть отриманий результат в змінну `column_vector` і виведіть на екран. Порівняйте з `vector`.\n",
        "4. Зробіть транспонування `column_vector`, виведіть результат на екран разом з розмірностями отриманої структури.\n",
        "\n",
        "\n"
      ],
      "metadata": {
        "id": "wohp0_cxSGpl"
      }
    },
    {
      "cell_type": "code",
      "source": [
        "# 1\n",
        "result_matrix.T"
      ],
      "metadata": {
        "id": "4hFcq1baVLii",
        "colab": {
          "base_uri": "https://localhost:8080/"
        },
        "outputId": "a917698c-6165-4703-8844-4bfcc483d9b6"
      },
      "execution_count": 58,
      "outputs": [
        {
          "output_type": "execute_result",
          "data": {
            "text/plain": [
              "array([[0.7281, 0.2034],\n",
              "       [0.5202, 0.2846]])"
            ]
          },
          "metadata": {},
          "execution_count": 58
        }
      ]
    },
    {
      "cell_type": "code",
      "source": [
        "# 2\n",
        "tr_vector = vector.T\n",
        "vector, vector.shape, tr_vector, tr_vector.shape\n",
        "# форма не змінилась, бо це одновимірний масив, рядковий ветор"
      ],
      "metadata": {
        "colab": {
          "base_uri": "https://localhost:8080/"
        },
        "id": "l30eAAwMHbgV",
        "outputId": "ed28dec3-ced9-461f-c8cc-d989c4ad2653"
      },
      "execution_count": 59,
      "outputs": [
        {
          "output_type": "execute_result",
          "data": {
            "text/plain": [
              "(array([0.36898467, 0.50702725, 0.41534971, 0.13525283, 0.59015391,\n",
              "        0.87112179, 0.07914631, 0.2398888 , 0.24396414, 0.14757819]),\n",
              " (10,),\n",
              " array([0.36898467, 0.50702725, 0.41534971, 0.13525283, 0.59015391,\n",
              "        0.87112179, 0.07914631, 0.2398888 , 0.24396414, 0.14757819]),\n",
              " (10,))"
            ]
          },
          "metadata": {},
          "execution_count": 59
        }
      ]
    },
    {
      "cell_type": "code",
      "source": [
        "# 3\n",
        "column_vector = np.expand_dims(vector, axis = 1)\n",
        "column_vector, column_vector.shape\n",
        "# форма вектора змінилась, став вектор-стовпець (двовимірний масив)"
      ],
      "metadata": {
        "colab": {
          "base_uri": "https://localhost:8080/"
        },
        "id": "mqqHmRWqI_NE",
        "outputId": "3851fa75-ddff-4fe5-d993-53977d0cf82b"
      },
      "execution_count": 67,
      "outputs": [
        {
          "output_type": "execute_result",
          "data": {
            "text/plain": [
              "(array([[0.36898467],\n",
              "        [0.50702725],\n",
              "        [0.41534971],\n",
              "        [0.13525283],\n",
              "        [0.59015391],\n",
              "        [0.87112179],\n",
              "        [0.07914631],\n",
              "        [0.2398888 ],\n",
              "        [0.24396414],\n",
              "        [0.14757819]]),\n",
              " (10, 1))"
            ]
          },
          "metadata": {},
          "execution_count": 67
        }
      ]
    },
    {
      "cell_type": "code",
      "source": [
        "# 4\n",
        "tr_column_vector = column_vector.T\n",
        "tr_column_vector, tr_column_vector.shape\n",
        "# змінилась форма"
      ],
      "metadata": {
        "colab": {
          "base_uri": "https://localhost:8080/"
        },
        "id": "teC0zFwjJ1oI",
        "outputId": "23da653c-65af-4da5-dfb1-1f9f2da99f28"
      },
      "execution_count": 66,
      "outputs": [
        {
          "output_type": "execute_result",
          "data": {
            "text/plain": [
              "(array([[0.36898467, 0.50702725, 0.41534971, 0.13525283, 0.59015391,\n",
              "         0.87112179, 0.07914631, 0.2398888 , 0.24396414, 0.14757819]]),\n",
              " (1, 10))"
            ]
          },
          "metadata": {},
          "execution_count": 66
        }
      ]
    }
  ]
}