{
  "nbformat": 4,
  "nbformat_minor": 0,
  "metadata": {
    "colab": {
      "provenance": []
    },
    "kernelspec": {
      "name": "python3",
      "display_name": "Python 3"
    },
    "language_info": {
      "name": "python"
    }
  },
  "cells": [
    {
      "cell_type": "markdown",
      "source": [
        "В цьому домашньому завданні ми знову працюємо з даними з нашого змагання [\"Bank Customer Churn Prediction (DLU Course)\"](https://www.kaggle.com/t/7c080c5d8ec64364a93cf4e8f880b6a0).\n",
        "\n",
        "Тут ми побудуємо рішення задачі класифікації з використанням kNearestNeighboors, знайдемо оптимальні гіперпараметри для цього методу і зробимо базові ансамблі. Це дасть змогу порівняти перформанс моделі з попередніми вивченими методами."
      ],
      "metadata": {
        "id": "fDefDHQt8LXC"
      }
    },
    {
      "cell_type": "markdown",
      "source": [
        "0. Зчитайте дані `train.csv` та зробіть препроцесинг використовуючи написаний Вами скрипт `process_bank_churn.py` так, аби в результаті отримати дані в розбитті X_train, train_targets, X_val, val_targets для експериментів.\n",
        "\n",
        "  Якщо Вам не вдалось реалізувати в завданні `2.3. Дерева прийняття рішень` скрипт `process_bank_churn.py` - можна скористатись готовим скриптом з запропонованого рішення того завдання."
      ],
      "metadata": {
        "id": "LhivzW9W8-Dz"
      }
    },
    {
      "cell_type": "code",
      "source": [
        "import pandas as pd\n",
        "%reload_ext autoreload\n",
        "%autoreload 2\n",
        "\n",
        "from process_bank_churn import process_data\n",
        "from sklearn.neighbors import KNeighborsClassifier\n",
        "from sklearn.metrics import roc_auc_score\n",
        "from sklearn.metrics import classification_report\n",
        "from sklearn.model_selection import GridSearchCV, train_test_split, RandomizedSearchCV\n",
        "from sklearn.base import ClassifierMixin\n",
        "import numpy as np\n",
        "from sklearn.tree import DecisionTreeClassifier\n",
        "import time\n",
        "\n",
        "\n",
        "\n"
      ],
      "metadata": {
        "id": "q6s_w8gzOmKP"
      },
      "execution_count": 16,
      "outputs": []
    },
    {
      "cell_type": "code",
      "source": [
        "bank_df = pd.read_csv(\"/content/train.csv\")\n",
        "data = process_data(\"/content/train.csv\", target_col='Exited', poly_degree=2)\n",
        "X_train = data['train_X']\n",
        "train_targets = data['train_y']\n",
        "X_val = data['val_X']\n",
        "val_targets = data['val_y']"
      ],
      "metadata": {
        "id": "Z-mntPMAH-rv"
      },
      "execution_count": 31,
      "outputs": []
    },
    {
      "cell_type": "markdown",
      "source": [
        "1. Навчіть на цих даних класифікатор kNN з параметрами за замовченням і виміряйте точність з допомогою AUROC на тренувальному та валідаційному наборах. Зробіть заключення про отриману модель: вона хороша/погана, чи є high bias/high variance?"
      ],
      "metadata": {
        "id": "_LxWkv4o-wMe"
      }
    },
    {
      "cell_type": "code",
      "source": [
        "knn = KNeighborsClassifier()\n",
        "knn.fit(X_train, train_targets)"
      ],
      "metadata": {
        "id": "1TH7H_Z9IAHD",
        "colab": {
          "base_uri": "https://localhost:8080/",
          "height": 80
        },
        "outputId": "1a9e58f4-45a9-43c5-b6cb-47a5432f8b95"
      },
      "execution_count": 33,
      "outputs": [
        {
          "output_type": "execute_result",
          "data": {
            "text/plain": [
              "KNeighborsClassifier()"
            ],
            "text/html": [
              "<style>#sk-container-id-3 {\n",
              "  /* Definition of color scheme common for light and dark mode */\n",
              "  --sklearn-color-text: #000;\n",
              "  --sklearn-color-text-muted: #666;\n",
              "  --sklearn-color-line: gray;\n",
              "  /* Definition of color scheme for unfitted estimators */\n",
              "  --sklearn-color-unfitted-level-0: #fff5e6;\n",
              "  --sklearn-color-unfitted-level-1: #f6e4d2;\n",
              "  --sklearn-color-unfitted-level-2: #ffe0b3;\n",
              "  --sklearn-color-unfitted-level-3: chocolate;\n",
              "  /* Definition of color scheme for fitted estimators */\n",
              "  --sklearn-color-fitted-level-0: #f0f8ff;\n",
              "  --sklearn-color-fitted-level-1: #d4ebff;\n",
              "  --sklearn-color-fitted-level-2: #b3dbfd;\n",
              "  --sklearn-color-fitted-level-3: cornflowerblue;\n",
              "\n",
              "  /* Specific color for light theme */\n",
              "  --sklearn-color-text-on-default-background: var(--sg-text-color, var(--theme-code-foreground, var(--jp-content-font-color1, black)));\n",
              "  --sklearn-color-background: var(--sg-background-color, var(--theme-background, var(--jp-layout-color0, white)));\n",
              "  --sklearn-color-border-box: var(--sg-text-color, var(--theme-code-foreground, var(--jp-content-font-color1, black)));\n",
              "  --sklearn-color-icon: #696969;\n",
              "\n",
              "  @media (prefers-color-scheme: dark) {\n",
              "    /* Redefinition of color scheme for dark theme */\n",
              "    --sklearn-color-text-on-default-background: var(--sg-text-color, var(--theme-code-foreground, var(--jp-content-font-color1, white)));\n",
              "    --sklearn-color-background: var(--sg-background-color, var(--theme-background, var(--jp-layout-color0, #111)));\n",
              "    --sklearn-color-border-box: var(--sg-text-color, var(--theme-code-foreground, var(--jp-content-font-color1, white)));\n",
              "    --sklearn-color-icon: #878787;\n",
              "  }\n",
              "}\n",
              "\n",
              "#sk-container-id-3 {\n",
              "  color: var(--sklearn-color-text);\n",
              "}\n",
              "\n",
              "#sk-container-id-3 pre {\n",
              "  padding: 0;\n",
              "}\n",
              "\n",
              "#sk-container-id-3 input.sk-hidden--visually {\n",
              "  border: 0;\n",
              "  clip: rect(1px 1px 1px 1px);\n",
              "  clip: rect(1px, 1px, 1px, 1px);\n",
              "  height: 1px;\n",
              "  margin: -1px;\n",
              "  overflow: hidden;\n",
              "  padding: 0;\n",
              "  position: absolute;\n",
              "  width: 1px;\n",
              "}\n",
              "\n",
              "#sk-container-id-3 div.sk-dashed-wrapped {\n",
              "  border: 1px dashed var(--sklearn-color-line);\n",
              "  margin: 0 0.4em 0.5em 0.4em;\n",
              "  box-sizing: border-box;\n",
              "  padding-bottom: 0.4em;\n",
              "  background-color: var(--sklearn-color-background);\n",
              "}\n",
              "\n",
              "#sk-container-id-3 div.sk-container {\n",
              "  /* jupyter's `normalize.less` sets `[hidden] { display: none; }`\n",
              "     but bootstrap.min.css set `[hidden] { display: none !important; }`\n",
              "     so we also need the `!important` here to be able to override the\n",
              "     default hidden behavior on the sphinx rendered scikit-learn.org.\n",
              "     See: https://github.com/scikit-learn/scikit-learn/issues/21755 */\n",
              "  display: inline-block !important;\n",
              "  position: relative;\n",
              "}\n",
              "\n",
              "#sk-container-id-3 div.sk-text-repr-fallback {\n",
              "  display: none;\n",
              "}\n",
              "\n",
              "div.sk-parallel-item,\n",
              "div.sk-serial,\n",
              "div.sk-item {\n",
              "  /* draw centered vertical line to link estimators */\n",
              "  background-image: linear-gradient(var(--sklearn-color-text-on-default-background), var(--sklearn-color-text-on-default-background));\n",
              "  background-size: 2px 100%;\n",
              "  background-repeat: no-repeat;\n",
              "  background-position: center center;\n",
              "}\n",
              "\n",
              "/* Parallel-specific style estimator block */\n",
              "\n",
              "#sk-container-id-3 div.sk-parallel-item::after {\n",
              "  content: \"\";\n",
              "  width: 100%;\n",
              "  border-bottom: 2px solid var(--sklearn-color-text-on-default-background);\n",
              "  flex-grow: 1;\n",
              "}\n",
              "\n",
              "#sk-container-id-3 div.sk-parallel {\n",
              "  display: flex;\n",
              "  align-items: stretch;\n",
              "  justify-content: center;\n",
              "  background-color: var(--sklearn-color-background);\n",
              "  position: relative;\n",
              "}\n",
              "\n",
              "#sk-container-id-3 div.sk-parallel-item {\n",
              "  display: flex;\n",
              "  flex-direction: column;\n",
              "}\n",
              "\n",
              "#sk-container-id-3 div.sk-parallel-item:first-child::after {\n",
              "  align-self: flex-end;\n",
              "  width: 50%;\n",
              "}\n",
              "\n",
              "#sk-container-id-3 div.sk-parallel-item:last-child::after {\n",
              "  align-self: flex-start;\n",
              "  width: 50%;\n",
              "}\n",
              "\n",
              "#sk-container-id-3 div.sk-parallel-item:only-child::after {\n",
              "  width: 0;\n",
              "}\n",
              "\n",
              "/* Serial-specific style estimator block */\n",
              "\n",
              "#sk-container-id-3 div.sk-serial {\n",
              "  display: flex;\n",
              "  flex-direction: column;\n",
              "  align-items: center;\n",
              "  background-color: var(--sklearn-color-background);\n",
              "  padding-right: 1em;\n",
              "  padding-left: 1em;\n",
              "}\n",
              "\n",
              "\n",
              "/* Toggleable style: style used for estimator/Pipeline/ColumnTransformer box that is\n",
              "clickable and can be expanded/collapsed.\n",
              "- Pipeline and ColumnTransformer use this feature and define the default style\n",
              "- Estimators will overwrite some part of the style using the `sk-estimator` class\n",
              "*/\n",
              "\n",
              "/* Pipeline and ColumnTransformer style (default) */\n",
              "\n",
              "#sk-container-id-3 div.sk-toggleable {\n",
              "  /* Default theme specific background. It is overwritten whether we have a\n",
              "  specific estimator or a Pipeline/ColumnTransformer */\n",
              "  background-color: var(--sklearn-color-background);\n",
              "}\n",
              "\n",
              "/* Toggleable label */\n",
              "#sk-container-id-3 label.sk-toggleable__label {\n",
              "  cursor: pointer;\n",
              "  display: flex;\n",
              "  width: 100%;\n",
              "  margin-bottom: 0;\n",
              "  padding: 0.5em;\n",
              "  box-sizing: border-box;\n",
              "  text-align: center;\n",
              "  align-items: start;\n",
              "  justify-content: space-between;\n",
              "  gap: 0.5em;\n",
              "}\n",
              "\n",
              "#sk-container-id-3 label.sk-toggleable__label .caption {\n",
              "  font-size: 0.6rem;\n",
              "  font-weight: lighter;\n",
              "  color: var(--sklearn-color-text-muted);\n",
              "}\n",
              "\n",
              "#sk-container-id-3 label.sk-toggleable__label-arrow:before {\n",
              "  /* Arrow on the left of the label */\n",
              "  content: \"▸\";\n",
              "  float: left;\n",
              "  margin-right: 0.25em;\n",
              "  color: var(--sklearn-color-icon);\n",
              "}\n",
              "\n",
              "#sk-container-id-3 label.sk-toggleable__label-arrow:hover:before {\n",
              "  color: var(--sklearn-color-text);\n",
              "}\n",
              "\n",
              "/* Toggleable content - dropdown */\n",
              "\n",
              "#sk-container-id-3 div.sk-toggleable__content {\n",
              "  max-height: 0;\n",
              "  max-width: 0;\n",
              "  overflow: hidden;\n",
              "  text-align: left;\n",
              "  /* unfitted */\n",
              "  background-color: var(--sklearn-color-unfitted-level-0);\n",
              "}\n",
              "\n",
              "#sk-container-id-3 div.sk-toggleable__content.fitted {\n",
              "  /* fitted */\n",
              "  background-color: var(--sklearn-color-fitted-level-0);\n",
              "}\n",
              "\n",
              "#sk-container-id-3 div.sk-toggleable__content pre {\n",
              "  margin: 0.2em;\n",
              "  border-radius: 0.25em;\n",
              "  color: var(--sklearn-color-text);\n",
              "  /* unfitted */\n",
              "  background-color: var(--sklearn-color-unfitted-level-0);\n",
              "}\n",
              "\n",
              "#sk-container-id-3 div.sk-toggleable__content.fitted pre {\n",
              "  /* unfitted */\n",
              "  background-color: var(--sklearn-color-fitted-level-0);\n",
              "}\n",
              "\n",
              "#sk-container-id-3 input.sk-toggleable__control:checked~div.sk-toggleable__content {\n",
              "  /* Expand drop-down */\n",
              "  max-height: 200px;\n",
              "  max-width: 100%;\n",
              "  overflow: auto;\n",
              "}\n",
              "\n",
              "#sk-container-id-3 input.sk-toggleable__control:checked~label.sk-toggleable__label-arrow:before {\n",
              "  content: \"▾\";\n",
              "}\n",
              "\n",
              "/* Pipeline/ColumnTransformer-specific style */\n",
              "\n",
              "#sk-container-id-3 div.sk-label input.sk-toggleable__control:checked~label.sk-toggleable__label {\n",
              "  color: var(--sklearn-color-text);\n",
              "  background-color: var(--sklearn-color-unfitted-level-2);\n",
              "}\n",
              "\n",
              "#sk-container-id-3 div.sk-label.fitted input.sk-toggleable__control:checked~label.sk-toggleable__label {\n",
              "  background-color: var(--sklearn-color-fitted-level-2);\n",
              "}\n",
              "\n",
              "/* Estimator-specific style */\n",
              "\n",
              "/* Colorize estimator box */\n",
              "#sk-container-id-3 div.sk-estimator input.sk-toggleable__control:checked~label.sk-toggleable__label {\n",
              "  /* unfitted */\n",
              "  background-color: var(--sklearn-color-unfitted-level-2);\n",
              "}\n",
              "\n",
              "#sk-container-id-3 div.sk-estimator.fitted input.sk-toggleable__control:checked~label.sk-toggleable__label {\n",
              "  /* fitted */\n",
              "  background-color: var(--sklearn-color-fitted-level-2);\n",
              "}\n",
              "\n",
              "#sk-container-id-3 div.sk-label label.sk-toggleable__label,\n",
              "#sk-container-id-3 div.sk-label label {\n",
              "  /* The background is the default theme color */\n",
              "  color: var(--sklearn-color-text-on-default-background);\n",
              "}\n",
              "\n",
              "/* On hover, darken the color of the background */\n",
              "#sk-container-id-3 div.sk-label:hover label.sk-toggleable__label {\n",
              "  color: var(--sklearn-color-text);\n",
              "  background-color: var(--sklearn-color-unfitted-level-2);\n",
              "}\n",
              "\n",
              "/* Label box, darken color on hover, fitted */\n",
              "#sk-container-id-3 div.sk-label.fitted:hover label.sk-toggleable__label.fitted {\n",
              "  color: var(--sklearn-color-text);\n",
              "  background-color: var(--sklearn-color-fitted-level-2);\n",
              "}\n",
              "\n",
              "/* Estimator label */\n",
              "\n",
              "#sk-container-id-3 div.sk-label label {\n",
              "  font-family: monospace;\n",
              "  font-weight: bold;\n",
              "  display: inline-block;\n",
              "  line-height: 1.2em;\n",
              "}\n",
              "\n",
              "#sk-container-id-3 div.sk-label-container {\n",
              "  text-align: center;\n",
              "}\n",
              "\n",
              "/* Estimator-specific */\n",
              "#sk-container-id-3 div.sk-estimator {\n",
              "  font-family: monospace;\n",
              "  border: 1px dotted var(--sklearn-color-border-box);\n",
              "  border-radius: 0.25em;\n",
              "  box-sizing: border-box;\n",
              "  margin-bottom: 0.5em;\n",
              "  /* unfitted */\n",
              "  background-color: var(--sklearn-color-unfitted-level-0);\n",
              "}\n",
              "\n",
              "#sk-container-id-3 div.sk-estimator.fitted {\n",
              "  /* fitted */\n",
              "  background-color: var(--sklearn-color-fitted-level-0);\n",
              "}\n",
              "\n",
              "/* on hover */\n",
              "#sk-container-id-3 div.sk-estimator:hover {\n",
              "  /* unfitted */\n",
              "  background-color: var(--sklearn-color-unfitted-level-2);\n",
              "}\n",
              "\n",
              "#sk-container-id-3 div.sk-estimator.fitted:hover {\n",
              "  /* fitted */\n",
              "  background-color: var(--sklearn-color-fitted-level-2);\n",
              "}\n",
              "\n",
              "/* Specification for estimator info (e.g. \"i\" and \"?\") */\n",
              "\n",
              "/* Common style for \"i\" and \"?\" */\n",
              "\n",
              ".sk-estimator-doc-link,\n",
              "a:link.sk-estimator-doc-link,\n",
              "a:visited.sk-estimator-doc-link {\n",
              "  float: right;\n",
              "  font-size: smaller;\n",
              "  line-height: 1em;\n",
              "  font-family: monospace;\n",
              "  background-color: var(--sklearn-color-background);\n",
              "  border-radius: 1em;\n",
              "  height: 1em;\n",
              "  width: 1em;\n",
              "  text-decoration: none !important;\n",
              "  margin-left: 0.5em;\n",
              "  text-align: center;\n",
              "  /* unfitted */\n",
              "  border: var(--sklearn-color-unfitted-level-1) 1pt solid;\n",
              "  color: var(--sklearn-color-unfitted-level-1);\n",
              "}\n",
              "\n",
              ".sk-estimator-doc-link.fitted,\n",
              "a:link.sk-estimator-doc-link.fitted,\n",
              "a:visited.sk-estimator-doc-link.fitted {\n",
              "  /* fitted */\n",
              "  border: var(--sklearn-color-fitted-level-1) 1pt solid;\n",
              "  color: var(--sklearn-color-fitted-level-1);\n",
              "}\n",
              "\n",
              "/* On hover */\n",
              "div.sk-estimator:hover .sk-estimator-doc-link:hover,\n",
              ".sk-estimator-doc-link:hover,\n",
              "div.sk-label-container:hover .sk-estimator-doc-link:hover,\n",
              ".sk-estimator-doc-link:hover {\n",
              "  /* unfitted */\n",
              "  background-color: var(--sklearn-color-unfitted-level-3);\n",
              "  color: var(--sklearn-color-background);\n",
              "  text-decoration: none;\n",
              "}\n",
              "\n",
              "div.sk-estimator.fitted:hover .sk-estimator-doc-link.fitted:hover,\n",
              ".sk-estimator-doc-link.fitted:hover,\n",
              "div.sk-label-container:hover .sk-estimator-doc-link.fitted:hover,\n",
              ".sk-estimator-doc-link.fitted:hover {\n",
              "  /* fitted */\n",
              "  background-color: var(--sklearn-color-fitted-level-3);\n",
              "  color: var(--sklearn-color-background);\n",
              "  text-decoration: none;\n",
              "}\n",
              "\n",
              "/* Span, style for the box shown on hovering the info icon */\n",
              ".sk-estimator-doc-link span {\n",
              "  display: none;\n",
              "  z-index: 9999;\n",
              "  position: relative;\n",
              "  font-weight: normal;\n",
              "  right: .2ex;\n",
              "  padding: .5ex;\n",
              "  margin: .5ex;\n",
              "  width: min-content;\n",
              "  min-width: 20ex;\n",
              "  max-width: 50ex;\n",
              "  color: var(--sklearn-color-text);\n",
              "  box-shadow: 2pt 2pt 4pt #999;\n",
              "  /* unfitted */\n",
              "  background: var(--sklearn-color-unfitted-level-0);\n",
              "  border: .5pt solid var(--sklearn-color-unfitted-level-3);\n",
              "}\n",
              "\n",
              ".sk-estimator-doc-link.fitted span {\n",
              "  /* fitted */\n",
              "  background: var(--sklearn-color-fitted-level-0);\n",
              "  border: var(--sklearn-color-fitted-level-3);\n",
              "}\n",
              "\n",
              ".sk-estimator-doc-link:hover span {\n",
              "  display: block;\n",
              "}\n",
              "\n",
              "/* \"?\"-specific style due to the `<a>` HTML tag */\n",
              "\n",
              "#sk-container-id-3 a.estimator_doc_link {\n",
              "  float: right;\n",
              "  font-size: 1rem;\n",
              "  line-height: 1em;\n",
              "  font-family: monospace;\n",
              "  background-color: var(--sklearn-color-background);\n",
              "  border-radius: 1rem;\n",
              "  height: 1rem;\n",
              "  width: 1rem;\n",
              "  text-decoration: none;\n",
              "  /* unfitted */\n",
              "  color: var(--sklearn-color-unfitted-level-1);\n",
              "  border: var(--sklearn-color-unfitted-level-1) 1pt solid;\n",
              "}\n",
              "\n",
              "#sk-container-id-3 a.estimator_doc_link.fitted {\n",
              "  /* fitted */\n",
              "  border: var(--sklearn-color-fitted-level-1) 1pt solid;\n",
              "  color: var(--sklearn-color-fitted-level-1);\n",
              "}\n",
              "\n",
              "/* On hover */\n",
              "#sk-container-id-3 a.estimator_doc_link:hover {\n",
              "  /* unfitted */\n",
              "  background-color: var(--sklearn-color-unfitted-level-3);\n",
              "  color: var(--sklearn-color-background);\n",
              "  text-decoration: none;\n",
              "}\n",
              "\n",
              "#sk-container-id-3 a.estimator_doc_link.fitted:hover {\n",
              "  /* fitted */\n",
              "  background-color: var(--sklearn-color-fitted-level-3);\n",
              "}\n",
              "</style><div id=\"sk-container-id-3\" class=\"sk-top-container\"><div class=\"sk-text-repr-fallback\"><pre>KNeighborsClassifier()</pre><b>In a Jupyter environment, please rerun this cell to show the HTML representation or trust the notebook. <br />On GitHub, the HTML representation is unable to render, please try loading this page with nbviewer.org.</b></div><div class=\"sk-container\" hidden><div class=\"sk-item\"><div class=\"sk-estimator fitted sk-toggleable\"><input class=\"sk-toggleable__control sk-hidden--visually\" id=\"sk-estimator-id-5\" type=\"checkbox\" checked><label for=\"sk-estimator-id-5\" class=\"sk-toggleable__label fitted sk-toggleable__label-arrow\"><div><div>KNeighborsClassifier</div></div><div><a class=\"sk-estimator-doc-link fitted\" rel=\"noreferrer\" target=\"_blank\" href=\"https://scikit-learn.org/1.6/modules/generated/sklearn.neighbors.KNeighborsClassifier.html\">?<span>Documentation for KNeighborsClassifier</span></a><span class=\"sk-estimator-doc-link fitted\">i<span>Fitted</span></span></div></label><div class=\"sk-toggleable__content fitted\"><pre>KNeighborsClassifier()</pre></div> </div></div></div></div>"
            ]
          },
          "metadata": {},
          "execution_count": 33
        }
      ]
    },
    {
      "cell_type": "code",
      "source": [
        "def evaluate_model(model: ClassifierMixin, X_train: pd.DataFrame, y_train: np.ndarray,\n",
        "                   X_val: pd.DataFrame, y_val: np.ndarray) -> None:\n",
        "    \"\"\"\n",
        "    Обчислює та виводить AUC-ROC для тренувального та валідаційного наборів.\n",
        "\n",
        "    :param model: Навчена модель (класифікатор).\n",
        "    :param X_train: pd.DataFrame, тренувальні ознаки.\n",
        "    :param y_train: np.ndarray, мітки для тренувального набору.\n",
        "    :param X_val: pd.DataFrame, валідаційні ознаки.\n",
        "    :param y_val: np.ndarray, мітки для валідаційного набору.\n",
        "    \"\"\"\n",
        "    # Отримання ймовірностей для позитивного класу\n",
        "    y_train_pred_proba = model.predict_proba(X_train)[:, 1]\n",
        "    y_val_pred_proba = model.predict_proba(X_val)[:, 1]\n",
        "\n",
        "    # Обчислення AUC-ROC\n",
        "    train_auc = roc_auc_score(y_train, y_train_pred_proba)\n",
        "    val_auc = roc_auc_score(y_val, y_val_pred_proba)\n",
        "\n",
        "    # Вивід результатів\n",
        "    print(f\"Train AUC-ROC: {train_auc:.4f}\")\n",
        "    print(f\"Validation AUC-ROC: {val_auc:.4f}\")\n",
        "\n",
        "    # Аналіз перенавчання або недонавчання\n",
        "    if train_auc > val_auc + 0.1:\n",
        "        print(\"Є ознаки перенавчання (overfitting).\")\n",
        "    elif val_auc > train_auc + 0.1:\n",
        "        print(\"Є ознаки недонавчання (underfitting).\")\n",
        "    else:\n",
        "        print(\"Модель збалансована.\")"
      ],
      "metadata": {
        "id": "JCIxrpFIYPaE"
      },
      "execution_count": 34,
      "outputs": []
    },
    {
      "cell_type": "code",
      "source": [
        "evaluate_model(knn, X_train, train_targets, X_val, val_targets)\n"
      ],
      "metadata": {
        "colab": {
          "base_uri": "https://localhost:8080/"
        },
        "id": "3SzTilH-UEsT",
        "outputId": "cb8a22ba-5259-4bf7-c68d-8d7530ff2ef0"
      },
      "execution_count": 35,
      "outputs": [
        {
          "output_type": "stream",
          "name": "stdout",
          "text": [
            "Train AUC-ROC: 0.8217\n",
            "Validation AUC-ROC: 0.5697\n",
            "Є ознаки перенавчання (overfitting).\n"
          ]
        }
      ]
    },
    {
      "cell_type": "markdown",
      "source": [
        "2. Використовуючи `GridSearchCV` знайдіть оптимальне значення параметра `n_neighbors` для класифікатора `kNN`. Псотавте крос валідацію на 5 фолдів.\n",
        "\n",
        "  Після успішного завершення пошуку оптимального гіперпараметра\n",
        "    - виведіть найкраще значення параметра\n",
        "    - збережіть в окрему змінну `knn_best` найкращу модель, знайдену з `GridSearchCV`\n",
        "    - оцініть якість передбачень  `knn_best` на тренувальній і валідаційній вибірці з допомогою AUROC.\n",
        "    - зробіть висновок про якість моделі. Чи стала вона краще порівняно з попереднім пукнтом (2) цього завдання? Чи є вона краще за дерево прийняття рішень з попереднього ДЗ?"
      ],
      "metadata": {
        "id": "U4hm5qYs_f7x"
      }
    },
    {
      "cell_type": "code",
      "source": [
        "params_knn = {'n_neighbors': range(1, 51)}\n",
        "knn_gs = GridSearchCV(KNeighborsClassifier(), params_knn, cv=5, scoring='roc_auc', verbose=1)\n",
        "start_time = time.time()\n",
        "knn_gs.fit(X_train, train_targets)\n",
        "end_time = time.time()\n",
        "\n",
        "# Час виконання\n",
        "execution_time = end_time - start_time\n",
        "print(f\"Час виконання GridSearchCV: {execution_time:.2f} секунд\")"
      ],
      "metadata": {
        "id": "a50AtDZ9IDNx",
        "colab": {
          "base_uri": "https://localhost:8080/"
        },
        "collapsed": true,
        "outputId": "495817bd-417b-4043-c322-9fbacaa343ec"
      },
      "execution_count": 36,
      "outputs": [
        {
          "output_type": "stream",
          "name": "stdout",
          "text": [
            "Fitting 5 folds for each of 50 candidates, totalling 250 fits\n",
            "Час виконання GridSearchCV: 57.68 секунд\n"
          ]
        }
      ]
    },
    {
      "cell_type": "code",
      "source": [
        "best_n_neighbors = knn_gs.best_params_['n_neighbors']\n",
        "knn_best = knn_gs.best_estimator_\n",
        "\n",
        "print(f\"Найкраще значення n_neighbors: {best_n_neighbors}\")\n",
        "evaluate_model(knn_best, X_train, train_targets, X_val, val_targets)"
      ],
      "metadata": {
        "colab": {
          "base_uri": "https://localhost:8080/"
        },
        "id": "rBi3XrP3WSwO",
        "outputId": "8f2e016c-734f-4497-9db8-ea3823cd9839"
      },
      "execution_count": 37,
      "outputs": [
        {
          "output_type": "stream",
          "name": "stdout",
          "text": [
            "Найкраще значення n_neighbors: 50\n",
            "Train AUC-ROC: 0.6560\n",
            "Validation AUC-ROC: 0.6202\n",
            "Модель збалансована.\n"
          ]
        }
      ]
    },
    {
      "cell_type": "markdown",
      "source": [
        "Модель заперформила краще, ніж попередня, але значно гірше, ніж в деревах прийняття рішень, бо там значення було майже 0.9\n"
      ],
      "metadata": {
        "id": "SpsxZGqKZV09"
      }
    },
    {
      "cell_type": "markdown",
      "source": [
        "3. Виконайте пошук оптимальних гіперпараметрів для `DecisionTreeClassifier` з `GridSearchCV` за сіткою параметрів\n",
        "  - `max_depth` від 1 до 20 з кроком 2\n",
        "  - `max_leaf_nodes` від 2 до 10 з кроком 1\n",
        "\n",
        "  Обовʼязково при цьому ініціюйте модель з фіксацією `random_state`.\n",
        "\n",
        "  Поставте кросвалідацію на 3 фолди, `scoring='roc_auc'`, та виміряйте, скільки часу потребує пошук оптимальних гіперпараметрів.\n",
        "\n",
        "  Після успішного завершення пошуку оптимальних гіперпараметрів\n",
        "    - виведіть найкращі значення параметра\n",
        "    - збережіть в окрему змінну `dt_best` найкращу модель, знайдену з `GridSearchCV`\n",
        "    - оцініть якість передбачень  `dt_best` на тренувальній і валідаційній вибірці з допомогою AUROC.\n",
        "    - зробіть висновок про якість моделі. Чи ця модель краща за ту, що ви знайшли вручну?"
      ],
      "metadata": {
        "id": "Vg77SVWrBBmU"
      }
    },
    {
      "cell_type": "code",
      "source": [
        "param_grid = {\n",
        "    'max_depth': range(1, 21, 2),\n",
        "    'max_leaf_nodes': range(2, 11, 1)\n",
        "}\n",
        "\n",
        "dt = DecisionTreeClassifier(random_state=42)\n",
        "\n",
        "# Запуск GridSearchCV\n",
        "grid_search = GridSearchCV(dt, param_grid, cv=3, scoring='roc_auc', n_jobs=-1, verbose=1)\n",
        "\n",
        "start_time = time.time()\n",
        "grid_search.fit(X_train, train_targets)\n",
        "end_time = time.time()\n",
        "\n",
        "# Час виконання\n",
        "execution_time = end_time - start_time\n",
        "\n",
        "# Отримання найкращої моделі\n",
        "best_params = grid_search.best_params_\n",
        "dt_best = grid_search.best_estimator_\n",
        "\n",
        "print(f\"Час виконання GridSearchCV: {execution_time:.2f} секунд\")\n",
        "print(f\"Найкращі параметри: {best_params}\")\n",
        "evaluate_model(dt_best, X_train, train_targets, X_val, val_targets)"
      ],
      "metadata": {
        "id": "RVg6jX-7IEwl",
        "colab": {
          "base_uri": "https://localhost:8080/"
        },
        "outputId": "b006d308-13d2-4be5-da17-a877264fb06a"
      },
      "execution_count": 38,
      "outputs": [
        {
          "output_type": "stream",
          "name": "stdout",
          "text": [
            "Fitting 3 folds for each of 90 candidates, totalling 270 fits\n",
            "Час виконання GridSearchCV: 19.51 секунд\n",
            "Найкращі параметри: {'max_depth': 5, 'max_leaf_nodes': 10}\n",
            "Train AUC-ROC: 0.9014\n",
            "Validation AUC-ROC: 0.8961\n",
            "Модель збалансована.\n"
          ]
        }
      ]
    },
    {
      "cell_type": "markdown",
      "source": [
        "Ця модель набагато краща за кнн, але вручну підібрані параметри показали кращий результат - > 0,91"
      ],
      "metadata": {
        "id": "AOG8oVMZwrQM"
      }
    },
    {
      "cell_type": "markdown",
      "source": [
        "4. Виконайте пошук оптимальних гіперпараметрів для `DecisionTreeClassifier` з `RandomizedSearchCV` за заданою сіткою параметрів і кількість ітерацій 40.\n",
        "\n",
        "  Поставте кросвалідацію на 3 фолди, `scoring='roc_auc'`, зафіксуйте `random_seed` процедури крос валідації та виміряйте, скільки часу потребує пошук оптимальних гіперпараметрів.\n",
        "\n",
        "  Після успішного завершення пошуку оптимальних гіперпараметрів\n",
        "    - виведіть найкращі значення параметра\n",
        "    - збережіть в окрему змінну `dt_random_search_best` найкращу модель, знайдену з `RandomizedSearchCV`\n",
        "    - оцініть якість передбачень  `dt_random_search_best` на тренувальній і валідаційній вибірці з допомогою AUROC.\n",
        "    - зробіть висновок про якість моделі. Чи ця модель краща за ту, що ви знайшли з `GridSearch`?\n",
        "    - проаналізуйте параметри `dt_random_search_best` і порівняйте з параметрами `dt_best` - яку бачите відмінність? Ця вправа потрібна аби зрозуміти, як різні налаштування `DecisionTreeClassifier` впливають на якість моделі."
      ],
      "metadata": {
        "id": "nCnkGD_sEW1i"
      }
    },
    {
      "cell_type": "code",
      "source": [
        "params_dt = {\n",
        "    'criterion': ['gini', 'entropy'],\n",
        "    'splitter': ['best', 'random'],\n",
        "    'max_depth': np.arange(1, 20),\n",
        "    'max_leaf_nodes': np.arange(2, 20),\n",
        "    'min_samples_split': [2, 5, 10, 20],\n",
        "    'min_samples_leaf': [1, 2, 4, 8],\n",
        "    'max_features': [None, 'sqrt', 'log2']\n",
        "}"
      ],
      "metadata": {
        "id": "665uQ3NdIG0s"
      },
      "execution_count": 39,
      "outputs": []
    },
    {
      "cell_type": "code",
      "source": [
        "dt = DecisionTreeClassifier(random_state=42)\n",
        "\n",
        "# Запуск GridSearchCV\n",
        "random_search = RandomizedSearchCV(\n",
        "    dt, params_dt, n_iter=40, cv=3,\n",
        "    scoring='roc_auc', random_state=42, n_jobs=-1, verbose=1\n",
        ")\n",
        "\n",
        "start_time = time.time()\n",
        "random_search.fit(X_train, train_targets)\n",
        "end_time = time.time()\n",
        "\n",
        "execution_time = end_time - start_time\n",
        "\n",
        "best_params = random_search.best_params_\n",
        "dt_best = random_search.best_estimator_\n",
        "\n",
        "print(f\"Час виконання GridSearchCV: {execution_time:.2f} секунд\")\n",
        "print(f\"Найкращі параметри: {best_params}\")\n",
        "evaluate_model(dt_best, X_train, train_targets, X_val, val_targets)"
      ],
      "metadata": {
        "id": "MyHVD-R0IXqv",
        "colab": {
          "base_uri": "https://localhost:8080/"
        },
        "outputId": "e2261524-00eb-4608-db6f-34eb76a9d456"
      },
      "execution_count": 40,
      "outputs": [
        {
          "output_type": "stream",
          "name": "stdout",
          "text": [
            "Fitting 3 folds for each of 40 candidates, totalling 120 fits\n",
            "Час виконання GridSearchCV: 2.90 секунд\n",
            "Найкращі параметри: {'splitter': 'best', 'min_samples_split': 20, 'min_samples_leaf': 2, 'max_leaf_nodes': 14, 'max_features': None, 'max_depth': 16, 'criterion': 'entropy'}\n",
            "Train AUC-ROC: 0.9143\n",
            "Validation AUC-ROC: 0.9104\n",
            "Модель збалансована.\n"
          ]
        }
      ]
    },
    {
      "cell_type": "markdown",
      "source": [
        "Модель заперформила майже однаково на тренувальних та валідаційних даних. Проте загалом все ж таки простіша модель (model = DecisionTreeClassifier(max_depth=5, random_state=42)\n",
        ") показувала трохи кращі результати"
      ],
      "metadata": {
        "id": "DKQ374fdzBLH"
      }
    },
    {
      "cell_type": "markdown",
      "source": [
        "5. Якщо у Вас вийшла метрика `AUROC` в цій серії експериментів - зробіть ще один `submission` на Kaggle і додайте код для цього і скріншот скора на публічному лідерборді нижче.\n",
        "\n",
        "  Сподіваюсь на цьому етапі ви вже відчули себе справжнім дослідником 😉"
      ],
      "metadata": {
        "id": "XArADR2CG8VK"
      }
    },
    {
      "cell_type": "code",
      "source": [
        "test_inputs = process_data('/content/test.csv', poly_degree=2)\n",
        "probs = dt_best.predict_proba(test_inputs['X'])[:,1]\n",
        "\n",
        "submission = pd.read_csv('sample_submission.csv')\n",
        "submission['Exited'] = probs\n",
        "submission.to_csv('submission_best_params_poly_2.csv', index=False)\n",
        "submission['Exited'].head()"
      ],
      "metadata": {
        "id": "vadJfLlMF_V3",
        "colab": {
          "base_uri": "https://localhost:8080/",
          "height": 241
        },
        "outputId": "fff3a673-e730-4fc2-e2e7-e2b327c4aa0e"
      },
      "execution_count": 42,
      "outputs": [
        {
          "output_type": "execute_result",
          "data": {
            "text/plain": [
              "0    0.064890\n",
              "1    0.012053\n",
              "2    0.147132\n",
              "3    0.881070\n",
              "4    0.078462\n",
              "Name: Exited, dtype: float64"
            ],
            "text/html": [
              "<div>\n",
              "<style scoped>\n",
              "    .dataframe tbody tr th:only-of-type {\n",
              "        vertical-align: middle;\n",
              "    }\n",
              "\n",
              "    .dataframe tbody tr th {\n",
              "        vertical-align: top;\n",
              "    }\n",
              "\n",
              "    .dataframe thead th {\n",
              "        text-align: right;\n",
              "    }\n",
              "</style>\n",
              "<table border=\"1\" class=\"dataframe\">\n",
              "  <thead>\n",
              "    <tr style=\"text-align: right;\">\n",
              "      <th></th>\n",
              "      <th>Exited</th>\n",
              "    </tr>\n",
              "  </thead>\n",
              "  <tbody>\n",
              "    <tr>\n",
              "      <th>0</th>\n",
              "      <td>0.064890</td>\n",
              "    </tr>\n",
              "    <tr>\n",
              "      <th>1</th>\n",
              "      <td>0.012053</td>\n",
              "    </tr>\n",
              "    <tr>\n",
              "      <th>2</th>\n",
              "      <td>0.147132</td>\n",
              "    </tr>\n",
              "    <tr>\n",
              "      <th>3</th>\n",
              "      <td>0.881070</td>\n",
              "    </tr>\n",
              "    <tr>\n",
              "      <th>4</th>\n",
              "      <td>0.078462</td>\n",
              "    </tr>\n",
              "  </tbody>\n",
              "</table>\n",
              "</div><br><label><b>dtype:</b> float64</label>"
            ]
          },
          "metadata": {},
          "execution_count": 42
        }
      ]
    },
    {
      "cell_type": "markdown",
      "source": [
        "![Знімок екрана 2025-02-13 о 10.18.31.png](data:image/png;base64,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)"
      ],
      "metadata": {
        "id": "Jmx0a7-x4_7L"
      }
    }
  ]
}