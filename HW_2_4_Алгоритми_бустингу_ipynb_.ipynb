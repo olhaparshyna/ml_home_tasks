{
  "cells": [
    {
      "cell_type": "markdown",
      "metadata": {
        "id": "fDefDHQt8LXC"
      },
      "source": [
        "В цьому домашньому завданні ми знову працюємо з даними з нашого змагання [\"Bank Customer Churn Prediction (DLU Course)\"](https://www.kaggle.com/t/7c080c5d8ec64364a93cf4e8f880b6a0).\n",
        "\n",
        "Тут ми побудуємо рішення задачі класифікації з використанням алгоритмів бустингу: XGBoost та LightGBM, а також використаємо бібліотеку HyperOpt для оптимізації гіперпараметрів."
      ]
    },
    {
      "cell_type": "markdown",
      "metadata": {
        "id": "LhivzW9W8-Dz"
      },
      "source": [
        "0. Зчитайте дані `train.csv` в змінну `raw_df` та скористайтесь наведеним кодом нижче аби розділити дані на трнувальні та валідаційні і розділити дані на ознаки з матириці Х та цільову змінну. Назви змінних `train_inputs, train_targets, train_inputs, train_targets` можна змінити на ті, які Вам зручно.\n",
        "\n",
        "  Наведений скрипт - частина отриманого мною скрипта для обробки даних. Ми тут не викнуємо масштабування та обробку категоріальних змінних, бо хочемо це делегувати алгоритмам, які будемо використовувати. Якщо щось не розумієте в наведених скриптах, рекомендую розібратись: навичка читати код - важлива складова роботи в машинному навчанні."
      ]
    },
    {
      "cell_type": "code",
      "execution_count": 68,
      "metadata": {
        "id": "cKE8RTPf6CRD"
      },
      "outputs": [],
      "source": [
        "import pandas as pd\n",
        "import numpy as np\n",
        "import seaborn as sns\n",
        "import matplotlib.pyplot as plt\n",
        "from sklearn.model_selection import train_test_split\n",
        "from typing import Tuple, Dict, Any\n",
        "import xgboost as xgb\n",
        "from sklearn.metrics import roc_auc_score\n",
        "from sklearn.base import ClassifierMixin\n",
        "from numpy.random import default_rng\n",
        "\n",
        "\n",
        "\n",
        "def split_train_val(df: pd.DataFrame, target_col: str, test_size: float = 0.2, random_state: int = 42) -> Tuple[pd.DataFrame, pd.DataFrame]:\n",
        "    \"\"\"\n",
        "    Split the dataframe into training and validation sets.\n",
        "\n",
        "    Args:\n",
        "        df (pd.DataFrame): The raw dataframe.\n",
        "        target_col (str): The target column for stratification.\n",
        "        test_size (float): The proportion of the dataset to include in the validation split.\n",
        "        random_state (int): Random state for reproducibility.\n",
        "\n",
        "    Returns:\n",
        "        Tuple[pd.DataFrame, pd.DataFrame]: Training and validation dataframes.\n",
        "    \"\"\"\n",
        "    train_df, val_df = train_test_split(df, test_size=test_size, random_state=random_state, stratify=df[target_col])\n",
        "    return train_df, val_df\n",
        "\n",
        "\n",
        "def separate_inputs_targets(df: pd.DataFrame, input_cols: list, target_col: str) -> Tuple[pd.DataFrame, pd.Series]:\n",
        "    \"\"\"\n",
        "    Separate inputs and targets from the dataframe.\n",
        "\n",
        "    Args:\n",
        "        df (pd.DataFrame): The dataframe.\n",
        "        input_cols (list): List of input columns.\n",
        "        target_col (str): Target column.\n",
        "\n",
        "    Returns:\n",
        "        Tuple[pd.DataFrame, pd.Series]: DataFrame of inputs and Series of targets.\n",
        "    \"\"\"\n",
        "    inputs = df[input_cols].copy()\n",
        "    targets = df[target_col].copy()\n",
        "    return inputs, targets\n",
        "\n",
        "def evaluate_model(model: ClassifierMixin, X_train: pd.DataFrame, y_train: np.ndarray,\n",
        "                   X_val: pd.DataFrame, y_val: np.ndarray) -> None:\n",
        "    \"\"\"\n",
        "    Обчислює та виводить AUC-ROC для тренувального та валідаційного наборів.\n",
        "\n",
        "    :param model: Навчена модель (класифікатор).\n",
        "    :param X_train: pd.DataFrame, тренувальні ознаки.\n",
        "    :param y_train: np.ndarray, мітки для тренувального набору.\n",
        "    :param X_val: pd.DataFrame, валідаційні ознаки.\n",
        "    :param y_val: np.ndarray, мітки для валідаційного набору.\n",
        "    \"\"\"\n",
        "    # Отримання ймовірностей для позитивного класу\n",
        "    y_train_pred_proba = model.predict_proba(X_train)[:, 1]\n",
        "    y_val_pred_proba = model.predict_proba(X_val)[:, 1]\n",
        "\n",
        "    # Обчислення AUC-ROC\n",
        "    train_auc = roc_auc_score(y_train, y_train_pred_proba)\n",
        "    val_auc = roc_auc_score(y_val, y_val_pred_proba)\n",
        "\n",
        "    # Вивід результатів\n",
        "    print(f\"Train AUC-ROC: {train_auc:.4f}\")\n",
        "    print(f\"Validation AUC-ROC: {val_auc:.4f}\")\n",
        "\n",
        "    # Аналіз перенавчання або недонавчання\n",
        "    if train_auc > val_auc + 0.1:\n",
        "        print(\"Є ознаки перенавчання (overfitting).\")\n",
        "    elif val_auc > train_auc + 0.1:\n",
        "        print(\"Є ознаки недонавчання (underfitting).\")\n",
        "    else:\n",
        "        print(\"Модель збалансована.\")"
      ]
    },
    {
      "cell_type": "code",
      "execution_count": 69,
      "metadata": {
        "id": "-bHdMJVB4xQR"
      },
      "outputs": [],
      "source": [
        "raw_df = pd.read_csv(\"/content/train.csv\")\n",
        "\n",
        "target_column = \"Exited\"\n",
        "# columns_to_keep = ['NumOfProducts', 'Age', 'Geography', 'IsActiveMember', 'Gender', 'Balance']\n",
        "input_columns = list(raw_df.columns[3:-1])\n",
        "categorical_columns = list(raw_df.iloc[:, 3:-1].select_dtypes(include=['object']).columns)\n",
        "\n",
        "train_df, val_df = split_train_val(raw_df, target_column)\n",
        "train_inputs, train_targets = separate_inputs_targets(train_df, input_columns, target_column)\n",
        "val_inputs, val_targets = separate_inputs_targets(val_df, input_columns, target_column)"
      ]
    },
    {
      "cell_type": "markdown",
      "metadata": {
        "id": "cq0JU7MqHgp_"
      },
      "source": [
        "1. В тренувальному та валідаційному наборі перетворіть категоріальні ознаки на тип `category`. Можна це зробити двома способами:\n",
        " 1. `df[col_name].astype('category')`, як було продемонстровано в лекції\n",
        " 2. використовуючи метод `pd.Categorical(df[col_name])`"
      ]
    },
    {
      "cell_type": "code",
      "execution_count": 70,
      "metadata": {
        "id": "UPmqo-Mr4yUO"
      },
      "outputs": [],
      "source": [
        "train_inputs[categorical_columns] = train_inputs[categorical_columns].astype('category')\n",
        "val_inputs[categorical_columns] = val_inputs[categorical_columns].astype('category')"
      ]
    },
    {
      "cell_type": "markdown",
      "metadata": {
        "id": "_LxWkv4o-wMe"
      },
      "source": [
        "2. Навчіть на отриманих даних модель `XGBoostClassifier`. Параметри алгоритму встановіть на свій розсуд, ми далі будемо їх тюнити. Рекомендую тренувати не дуже складну модель.\n",
        "\n",
        "  Опис всіх конфігураційних параметрів XGBoostClassifier - тут https://xgboost.readthedocs.io/en/stable/parameter.html#global-config\n",
        "\n",
        "  **Важливо:** зробіть такі налаштування `XGBoostClassifier` аби він самостійно обробляв незаповнені значення в даних і обробляв категоріальні колонки.\n",
        "\n",
        "  Можна також, якщо працюєте в Google Colab, увімкнути можливість використання GPU (`Runtime -> Change runtime type -> T4 GPU`) і встановити параметр `device='cuda'` в `XGBoostClassifier` для пришвидшення тренування бустинг моделі.\n",
        "  \n",
        "  Після тренування моделі\n",
        "  1. Виміряйте точність з допомогою AUROC на тренувальному та валідаційному наборах.\n",
        "  2. Зробіть висновок про отриману модель: вона хороша/погана, чи є high bias/high variance?\n",
        "  3. Порівняйте якість цієї моделі з тою, що ви отрмали з використанням DecisionTrees раніше. Чи вийшло покращити якість?"
      ]
    },
    {
      "cell_type": "code",
      "execution_count": 71,
      "metadata": {
        "colab": {
          "base_uri": "https://localhost:8080/"
        },
        "id": "_5rDqdDP41hb",
        "outputId": "078ebadf-e7d9-4639-8f74-93d028026557"
      },
      "outputs": [
        {
          "output_type": "stream",
          "name": "stdout",
          "text": [
            "Train AUC-ROC: 0.9390\n",
            "Validation AUC-ROC: 0.9346\n",
            "Модель збалансована.\n"
          ]
        }
      ],
      "source": [
        "xgb_clf = xgb.XGBClassifier(\n",
        "    max_depth=4,\n",
        "    n_estimators=10,\n",
        "    enable_categorical=True,  # для категорійних ознак\n",
        "    missing=np.nan,  # явне вказування пропущених значень\n",
        "    device='cuda'\n",
        ")\n",
        "\n",
        "# Навчання моделі\n",
        "xgb_clf.fit(train_inputs, train_targets)\n",
        "evaluate_model(xgb_clf, train_inputs, train_targets, val_inputs, val_targets)"
      ]
    },
    {
      "cell_type": "markdown",
      "source": [
        "Модель показала непогані результати, трохи краще ніж у порівнянні з звичайними деревами"
      ],
      "metadata": {
        "id": "aQqJFnmofuwO"
      }
    },
    {
      "cell_type": "markdown",
      "metadata": {
        "id": "U4hm5qYs_f7x"
      },
      "source": [
        "3. Використовуючи бібліотеку `Hyperopt` і приклад пошуку гіперпараметрів для `XGBoostClassifier` з лекції знайдіть оптимальні значення гіперпараметрів `XGBoostClassifier` для нашої задачі. Задайте свою сітку гіперпараметрів виходячи з тих параметрів, які ви б хотіли перебрати. Поставте кількість раундів в підборі гіперпараметрів рівну **20**.\n",
        "\n",
        "  **Увага!** Для того, аби скористатись hyperopt, нам треба задати функцію `objective`. В ній ми маємо задати loss - це може будь-яка метрика, але бажано використовувтаи ту, яка цільова в вашій задачі. Чим менший лосс - тим ліпша модель на думку hyperopt. Тож, тут нам треба задати loss - негативне значення AUROC. В лекції ми натомість використовували Accuracy.\n",
        "\n",
        "  Після успішного завершення пошуку оптимальних гіперпараметрів\n",
        "    - виведіть найкращі значення гіперпараметрів\n",
        "    - створіть в окремій зміній `final_clf` модель `XGBoostClassifier` з найкращими гіперпараметрами\n",
        "    - навчіть модель `final_clf`\n",
        "    - оцініть якість моделі `final_clf` на тренувальній і валідаційній вибірках з допомогою AUROC.\n",
        "    - зробіть висновок про якість моделі. Чи стала вона краще порівняно з попереднім пунктом (2) цього завдання?"
      ]
    },
    {
      "cell_type": "code",
      "execution_count": 31,
      "metadata": {
        "colab": {
          "base_uri": "https://localhost:8080/"
        },
        "id": "WhR1g9B4433r",
        "outputId": "48ee20d1-b86f-4149-e1c2-6e8a6a78eb5e"
      },
      "outputs": [
        {
          "output_type": "stream",
          "name": "stdout",
          "text": [
            "Requirement already satisfied: hyperopt in /usr/local/lib/python3.11/dist-packages (0.2.7)\n",
            "Requirement already satisfied: numpy in /usr/local/lib/python3.11/dist-packages (from hyperopt) (1.26.4)\n",
            "Requirement already satisfied: scipy in /usr/local/lib/python3.11/dist-packages (from hyperopt) (1.13.1)\n",
            "Requirement already satisfied: six in /usr/local/lib/python3.11/dist-packages (from hyperopt) (1.17.0)\n",
            "Requirement already satisfied: networkx>=2.2 in /usr/local/lib/python3.11/dist-packages (from hyperopt) (3.4.2)\n",
            "Requirement already satisfied: future in /usr/local/lib/python3.11/dist-packages (from hyperopt) (1.0.0)\n",
            "Requirement already satisfied: tqdm in /usr/local/lib/python3.11/dist-packages (from hyperopt) (4.67.1)\n",
            "Requirement already satisfied: cloudpickle in /usr/local/lib/python3.11/dist-packages (from hyperopt) (3.1.1)\n",
            "Requirement already satisfied: py4j in /usr/local/lib/python3.11/dist-packages (from hyperopt) (0.10.9.7)\n"
          ]
        }
      ],
      "source": [
        "!pip install hyperopt\n",
        "from hyperopt import fmin, tpe, hp, Trials, STATUS_OK"
      ]
    },
    {
      "cell_type": "code",
      "execution_count": 50,
      "metadata": {
        "colab": {
          "base_uri": "https://localhost:8080/"
        },
        "id": "EhfLVw_Z1u0j",
        "outputId": "df860606-5ff6-498b-ac54-78a1ebf94fb2"
      },
      "outputs": [
        {
          "output_type": "stream",
          "name": "stdout",
          "text": [
            "100%|██████████| 60/60 [00:27<00:00,  2.19trial/s, best loss: -0.9370827903148364]\n",
            "Найкращі гіперпараметри: {'colsample_bytree': 0.6881676159391759, 'gamma': 0.26418365013603673, 'learning_rate': 0.020728588834343496, 'max_depth': 3, 'min_child_weight': 3, 'n_estimators': 415, 'reg_alpha': 0.6058792480405221, 'reg_lambda': 0.1458331223683984, 'scale_pos_weight': 5.204350950498964, 'subsample': 0.743387475352878}\n",
            "Train AUC-ROC: 0.9425\n",
            "Validation AUC-ROC: 0.9371\n",
            "Модель збалансована.\n"
          ]
        }
      ],
      "source": [
        "def objective(params):\n",
        "    \"\"\" Функція для оптимізації гіперпараметрів \"\"\"\n",
        "    params['n_estimators'] = int(params['n_estimators'])\n",
        "    params['max_depth'] = int(params['max_depth'])\n",
        "    params['min_child_weight'] = int(params['min_child_weight'])\n",
        "\n",
        "    model = xgb.XGBClassifier(\n",
        "        n_estimators=params['n_estimators'],\n",
        "        learning_rate=params['learning_rate'],\n",
        "        max_depth=params['max_depth'],\n",
        "        min_child_weight=params['min_child_weight'],\n",
        "        subsample=params['subsample'],\n",
        "        colsample_bytree=params['colsample_bytree'],\n",
        "        gamma=params['gamma'],\n",
        "        reg_alpha=params['reg_alpha'],\n",
        "        reg_lambda=params['reg_lambda'],\n",
        "        objective=params['objective'],\n",
        "        eval_metric=params['eval_metric'],\n",
        "        random_state=42,\n",
        "        enable_categorical=True,\n",
        "        scale_pos_weight=params['scale_pos_weight'],\n",
        "    )\n",
        "\n",
        "    model.fit(train_inputs,\n",
        "              train_targets,\n",
        "              verbose=False)\n",
        "    y_val_pred = model.predict_proba(val_inputs)[:, 1]\n",
        "    val_auc = roc_auc_score(val_targets, y_val_pred)\n",
        "\n",
        "    return {'loss': -val_auc, 'status': STATUS_OK}\n",
        "\n",
        "space = {\n",
        "    'n_estimators': hp.quniform('n_estimators', 100, 500, 5),  # обмежуємо n_estimators\n",
        "    'learning_rate': hp.uniform('learning_rate', 0.01, 0.3),  # зменшуємо верхню межу\n",
        "    'max_depth': hp.quniform('max_depth', 3, 8, 1),  # обмежуємо глибину дерев\n",
        "    'min_child_weight': hp.quniform('min_child_weight', 1, 10, 1),\n",
        "    'subsample': hp.uniform('subsample', 0.6, 1.0),  # зменшуємо верхню межу\n",
        "    'colsample_bytree': hp.uniform('colsample_bytree', 0.6, 1.0),  # зменшуємо верхню межу\n",
        "    'gamma': hp.uniform('gamma', 0, 0.5),  # зменшуємо верхню межу\n",
        "    'reg_alpha': hp.uniform('reg_alpha', 0.01, 1),  # додаємо більший мінімум\n",
        "    'reg_lambda': hp.uniform('reg_lambda', 0.01, 1),  # додаємо більший мінімум\n",
        "    'objective': 'binary:logistic',\n",
        "    'eval_metric': 'auc',\n",
        "    'scale_pos_weight': hp.uniform('scale_pos_weight', 0.5, 10),  # Пошук в межах від 0.5 до 10\n",
        "}\n",
        "\n",
        "rng = default_rng(42)\n",
        "\n",
        "trials = Trials()\n",
        "best_params = fmin(fn=objective, space=space, algo=tpe.suggest, max_evals=60, trials=trials, rstate=rng)\n",
        "best_params['n_estimators'] = int(best_params['n_estimators'])\n",
        "best_params['max_depth'] = int(best_params['max_depth'])\n",
        "best_params['min_child_weight'] = int(best_params['min_child_weight'])\n",
        "print(\"Найкращі гіперпараметри:\", best_params)\n",
        "\n",
        "\n",
        "final_clf = xgb.XGBClassifier(\n",
        "    n_estimators=int(best_params['n_estimators']),\n",
        "    learning_rate=best_params['learning_rate'],\n",
        "    max_depth=int(best_params['max_depth']),\n",
        "    min_child_weight=int(best_params['min_child_weight']),\n",
        "    subsample=best_params['subsample'],\n",
        "    colsample_bytree=best_params['colsample_bytree'],\n",
        "    gamma=best_params['gamma'],\n",
        "    reg_alpha=best_params['reg_alpha'],\n",
        "    reg_lambda=best_params['reg_lambda'],\n",
        "    objective='binary:logistic',\n",
        "    eval_metric='auc',\n",
        "    random_state=42,\n",
        "    enable_categorical=True,\n",
        "    scale_pos_weight=best_params['scale_pos_weight'],\n",
        "\n",
        ")\n",
        "\n",
        "final_clf.fit(train_inputs, train_targets)\n",
        "evaluate_model(final_clf, train_inputs, train_targets, val_inputs, val_targets)"
      ]
    },
    {
      "cell_type": "markdown",
      "source": [
        "Модель стала краще, проте спостерігаємо збільшення різниці у показниках на тренувальних та валідаційних даних, хоча загалом відхилення у межах норми."
      ],
      "metadata": {
        "id": "YsmZjtR7f9Pa"
      }
    },
    {
      "cell_type": "markdown",
      "metadata": {
        "id": "Vg77SVWrBBmU"
      },
      "source": [
        "4. Навчіть на наших даних модель LightGBM. Параметри алгоритму встановіть на свій розсуд, ми далі будемо їх тюнити. Рекомендую тренувати не дуже складну модель.\n",
        "\n",
        "  Опис всіх конфігураційних параметрів LightGBM - тут https://lightgbm.readthedocs.io/en/latest/Parameters.html\n",
        "\n",
        "  **Важливо:** зробіть такі налаштування LightGBM аби він самостійно обробляв незаповнені значення в даних і обробляв категоріальні колонки.\n",
        "\n",
        "  Аби передати категоріальні колонки в LightGBM - необхідно виявити їх індекси і передати в параметрі `cat_feature=cat_feature_indexes`\n",
        "\n",
        "  Після тренування моделі\n",
        "  1. Виміряйте точність з допомогою AUROC на тренувальному та валідаційному наборах.\n",
        "  2. Зробіть висновок про отриману модель: вона хороша/погана, чи є high bias/high variance?\n",
        "  3. Порівняйте якість цієї моделі з тою, що ви отрмали з використанням XGBoostClassifier раніше. Чи вийшло покращити якість?"
      ]
    },
    {
      "cell_type": "code",
      "execution_count": 9,
      "metadata": {
        "colab": {
          "base_uri": "https://localhost:8080/"
        },
        "id": "jByY7mFytGwj",
        "outputId": "3e98ca74-42e6-44c4-9e84-dd604c5f7260"
      },
      "outputs": [
        {
          "output_type": "stream",
          "name": "stdout",
          "text": [
            "4.5.0\n"
          ]
        },
        {
          "output_type": "stream",
          "name": "stderr",
          "text": [
            "/usr/local/lib/python3.11/dist-packages/dask/dataframe/__init__.py:42: FutureWarning: \n",
            "Dask dataframe query planning is disabled because dask-expr is not installed.\n",
            "\n",
            "You can install it with `pip install dask[dataframe]` or `conda install dask`.\n",
            "This will raise in a future version.\n",
            "\n",
            "  warnings.warn(msg, FutureWarning)\n"
          ]
        }
      ],
      "source": [
        "import lightgbm as lgb\n",
        "print(lgb.__version__)"
      ]
    },
    {
      "cell_type": "code",
      "execution_count": 86,
      "metadata": {
        "colab": {
          "base_uri": "https://localhost:8080/"
        },
        "id": "C-9aZn4d45No",
        "outputId": "f93f222f-0c33-4b3a-f2c0-3b1389dfbf54"
      },
      "outputs": [
        {
          "output_type": "stream",
          "name": "stdout",
          "text": [
            "Train AUC-ROC: 0.9592\n",
            "Validation AUC-ROC: 0.9345\n",
            "Модель збалансована.\n"
          ]
        }
      ],
      "source": [
        "cat_feature_indexes = [train_inputs.columns.get_loc(col) for col in categorical_columns]\n",
        "\n",
        "lgb_clf = lgb.LGBMClassifier(\n",
        "    min_data_in_leaf=20,\n",
        "    max_depth=10,\n",
        "    n_estimators=50,\n",
        "    learning_rate=0.1,\n",
        "    cat_feature=cat_feature_indexes,\n",
        ")\n",
        "\n",
        "lgb_clf.fit(train_inputs, train_targets, eval_set=[(val_inputs, val_targets)])\n",
        "\n",
        "evaluate_model(lgb_clf, train_inputs, train_targets, val_inputs, val_targets)"
      ]
    },
    {
      "cell_type": "markdown",
      "source": [
        "Модель трохи гірша ніж з використанням XGBoostClassifier та і різниця показників між тренувальними та валідаційними даними теж більша."
      ],
      "metadata": {
        "id": "tjSD3EKagRnt"
      }
    },
    {
      "cell_type": "markdown",
      "metadata": {
        "id": "nCnkGD_sEW1i"
      },
      "source": [
        "5. Використовуючи бібліотеку `Hyperopt` і приклад пошуку гіперпараметрів для `LightGBM` з лекції знайдіть оптимальні значення гіперпараметрів `LightGBM` для нашої задачі. Задайте свою сітку гіперпараметрів виходячи з тих параметрів, які ви б хотіли перебрати. Поставте кількість раундів в підборі гіперпараметрів рівну **10**.\n",
        "\n",
        "  **Увага!** Для того, аби скористатись hyperopt, нам треба задати функцію `objective`. І тут ми також ставимо loss - негативне значення AUROC, як і при пошуці гіперпараметрів для XGBoost. До речі, можна спробувати написати код так, аби в objective передавати лише модель і не писати схожий код двічі :)\n",
        "\n",
        "  Після успішного завершення пошуку оптимальних гіперпараметрів\n",
        "    - виведіть найкращі значення гіперпараметрів\n",
        "    - створіть в окремій зміній `final_lgb_clf` модель `LightGBM` з найкращими гіперпараметрами\n",
        "    - навчіть модель `final_lgb_clf`\n",
        "    - оцініть якість моделі `final_lgb_clf` на тренувальній і валідаційній вибірках з допомогою AUROC.\n",
        "    - зробіть висновок про якість моделі. Чи стала вона краще порівняно з попереднім пунктом (4) цього завдання?"
      ]
    },
    {
      "cell_type": "code",
      "execution_count": 110,
      "metadata": {
        "colab": {
          "base_uri": "https://localhost:8080/"
        },
        "id": "cfMQKA4D47Rq",
        "outputId": "efe6b517-a8ce-4b1a-c196-20fdfc1ddbe8"
      },
      "outputs": [
        {
          "output_type": "stream",
          "name": "stdout",
          "text": [
            "100%|██████████| 10/10 [00:09<00:00,  1.01trial/s, best loss: -0.9353501611907539]\n",
            "Найкращі гіперпараметри: {'bagging_fraction': 0.7292650146614349, 'bagging_freq': 6, 'colsample_bytree': 0.9071555676208776, 'feature_fraction': 0.8180067733076655, 'learning_rate': 0.0246107573547728, 'max_bin': 256, 'max_depth': 5, 'min_child_samples': 30, 'min_child_weight': 7, 'min_split_gain': 0.010297058390819153, 'n_estimators': 275, 'num_leaves': 26, 'reg_alpha': 0.7044600162750467, 'reg_lambda': 0.5924534133258075, 'scale_pos_weight': 2.5160626114366846, 'subsample': 0.7615110681047916}\n",
            "Train AUC-ROC: 0.9531\n",
            "Validation AUC-ROC: 0.9354\n",
            "Модель збалансована.\n"
          ]
        }
      ],
      "source": [
        "def objective(params):\n",
        "    params['n_estimators'] = int(params['n_estimators'])\n",
        "    params['max_depth'] = int(params['max_depth'])\n",
        "    params['num_leaves'] = int(params['num_leaves'])\n",
        "    params['min_child_weight'] = int(params['min_child_weight'])\n",
        "    params['min_child_samples'] = int(params['min_child_samples'])\n",
        "    params['max_bin'] = int(params['max_bin'])\n",
        "    params['bagging_freq'] = int(params['bagging_freq'])\n",
        "\n",
        "    model = lgb.LGBMClassifier(\n",
        "        n_estimators=params['n_estimators'],\n",
        "        learning_rate=params['learning_rate'],\n",
        "        max_depth=params['max_depth'],\n",
        "        num_leaves=params['num_leaves'],\n",
        "        min_child_weight=params['min_child_weight'],\n",
        "        min_child_samples=params['min_child_samples'],\n",
        "        subsample=params['subsample'],\n",
        "        colsample_bytree=params['colsample_bytree'],\n",
        "        reg_alpha=params['reg_alpha'],\n",
        "        reg_lambda=params['reg_lambda'],\n",
        "        min_split_gain=params['min_split_gain'],\n",
        "        scale_pos_weight=params['scale_pos_weight'],\n",
        "        max_bin=params['max_bin'],\n",
        "        feature_fraction=params['feature_fraction'],\n",
        "        bagging_fraction=params['bagging_fraction'],\n",
        "        bagging_freq=params['bagging_freq'],\n",
        "        objective='binary',\n",
        "        metric='auc',\n",
        "        random_state=42,\n",
        "        verbosity=-1,\n",
        "        cat_feature=cat_feature_indexes,\n",
        "\n",
        "    )\n",
        "\n",
        "    model.fit(train_inputs, train_targets, eval_set=[(val_inputs, val_targets)])\n",
        "    y_val_pred = model.predict_proba(val_inputs)[:, 1]\n",
        "    val_auc = roc_auc_score(val_targets, y_val_pred)\n",
        "\n",
        "    return {'loss': -val_auc, 'status': STATUS_OK}\n",
        "\n",
        "space = {\n",
        "    'n_estimators': hp.quniform('n_estimators', 50, 500, 25),\n",
        "    'learning_rate': hp.uniform('learning_rate', 0.01, 0.1),\n",
        "    'max_depth': hp.quniform('max_depth', 3, 12, 1),\n",
        "    'num_leaves': hp.quniform('num_leaves', 20, 100, 1),\n",
        "    'min_child_weight': hp.quniform('min_child_weight', 3, 10, 1),\n",
        "    'min_child_samples': hp.quniform('min_child_samples', 20, 50, 5),\n",
        "    'subsample': hp.uniform('subsample', 0.6, 1.0),\n",
        "    'colsample_bytree': hp.uniform('colsample_bytree', 0.6, 1.0),\n",
        "    'reg_alpha': hp.uniform('reg_alpha', 0, 1),\n",
        "    'reg_lambda': hp.uniform('reg_lambda', 0, 1),\n",
        "    'min_split_gain': hp.uniform('min_split_gain', 0, 0.05),\n",
        "    'scale_pos_weight': hp.uniform('scale_pos_weight', 0.5, 10),\n",
        "    'max_bin': hp.quniform('max_bin', 32, 256, 32),\n",
        "    'feature_fraction': hp.uniform('feature_fraction', 0.6, 1.0),\n",
        "    'bagging_fraction': hp.uniform('bagging_fraction', 0.6, 1.0),\n",
        "    'bagging_freq': hp.quniform('bagging_freq', 1, 10, 1),\n",
        "}\n",
        "\n",
        "rstate = default_rng(42)\n",
        "trials = Trials()\n",
        "best_params = fmin(fn=objective, space=space, algo=tpe.suggest, max_evals=10, rstate=rstate)\n",
        "\n",
        "best_params['n_estimators'] = int(best_params['n_estimators'])\n",
        "best_params['max_depth'] = int(best_params['max_depth'])\n",
        "best_params['num_leaves'] = int(best_params['num_leaves'])\n",
        "best_params['min_child_weight'] = int(best_params['min_child_weight'])\n",
        "best_params['min_child_samples'] = int(best_params['min_child_samples'])\n",
        "best_params['max_bin'] = int(best_params['max_bin'])\n",
        "best_params['bagging_freq'] = int(best_params['bagging_freq'])\n",
        "\n",
        "print(\"Найкращі гіперпараметри:\", best_params)\n",
        "\n",
        "final_lgbm_clf = lgb.LGBMClassifier(\n",
        "    n_estimators=best_params['n_estimators'],\n",
        "    learning_rate=best_params['learning_rate'],\n",
        "    max_depth=best_params['max_depth'],\n",
        "    num_leaves=best_params['num_leaves'],\n",
        "    min_child_weight=best_params['min_child_weight'],\n",
        "    min_child_samples=best_params['min_child_samples'],\n",
        "    subsample=best_params['subsample'],\n",
        "    colsample_bytree=best_params['colsample_bytree'],\n",
        "    reg_alpha=best_params['reg_alpha'],\n",
        "    reg_lambda=best_params['reg_lambda'],\n",
        "    min_split_gain=best_params['min_split_gain'],\n",
        "    scale_pos_weight=best_params['scale_pos_weight'],\n",
        "    max_bin=best_params['max_bin'],\n",
        "    feature_fraction=best_params['feature_fraction'],\n",
        "    bagging_fraction=best_params['bagging_fraction'],\n",
        "    bagging_freq=best_params['bagging_freq'],\n",
        "    objective='binary',\n",
        "    metric='auc',\n",
        "    random_state=42,\n",
        "    verbosity=-1,\n",
        "    cat_feature=cat_feature_indexes,\n",
        ")\n",
        "\n",
        "\n",
        "final_lgbm_clf.fit(train_inputs, train_targets, eval_set=[(val_inputs, val_targets)])\n",
        "evaluate_model(final_lgbm_clf, train_inputs, train_targets, val_inputs, val_targets)"
      ]
    },
    {
      "cell_type": "markdown",
      "source": [
        "Модель трохи покращилась, але бачимо різниці між валідаційними та тренувальними даними."
      ],
      "metadata": {
        "id": "uHGRZo_8osyy"
      }
    },
    {
      "cell_type": "markdown",
      "metadata": {
        "id": "XArADR2CG8VK"
      },
      "source": [
        "6. Оберіть модель з експериментів в цьому ДЗ і зробіть новий `submission` на Kaggle та додайте код для цього і скріншот скора на публічному лідерборді.\n",
        "  \n",
        "  **Напишіть коментар, чому ви обрали саме цю модель?**\n",
        "\n",
        "  І я вас вітаю - це останнє завдання з цим набором даних 💪 На цьому етапі корисно проаналізувати, які моделі показали себе найкраще і подумати, чому."
      ]
    },
    {
      "cell_type": "code",
      "execution_count": 112,
      "metadata": {
        "id": "COIjJH9f5SSp",
        "colab": {
          "base_uri": "https://localhost:8080/",
          "height": 241
        },
        "outputId": "3c57eea4-6eab-449e-aad5-574ffa12465d"
      },
      "outputs": [
        {
          "output_type": "execute_result",
          "data": {
            "text/plain": [
              "0    0.302231\n",
              "1    0.067161\n",
              "2    0.275290\n",
              "3    0.823777\n",
              "4    0.169351\n",
              "Name: Exited, dtype: float32"
            ],
            "text/html": [
              "<div>\n",
              "<style scoped>\n",
              "    .dataframe tbody tr th:only-of-type {\n",
              "        vertical-align: middle;\n",
              "    }\n",
              "\n",
              "    .dataframe tbody tr th {\n",
              "        vertical-align: top;\n",
              "    }\n",
              "\n",
              "    .dataframe thead th {\n",
              "        text-align: right;\n",
              "    }\n",
              "</style>\n",
              "<table border=\"1\" class=\"dataframe\">\n",
              "  <thead>\n",
              "    <tr style=\"text-align: right;\">\n",
              "      <th></th>\n",
              "      <th>Exited</th>\n",
              "    </tr>\n",
              "  </thead>\n",
              "  <tbody>\n",
              "    <tr>\n",
              "      <th>0</th>\n",
              "      <td>0.302231</td>\n",
              "    </tr>\n",
              "    <tr>\n",
              "      <th>1</th>\n",
              "      <td>0.067161</td>\n",
              "    </tr>\n",
              "    <tr>\n",
              "      <th>2</th>\n",
              "      <td>0.275290</td>\n",
              "    </tr>\n",
              "    <tr>\n",
              "      <th>3</th>\n",
              "      <td>0.823777</td>\n",
              "    </tr>\n",
              "    <tr>\n",
              "      <th>4</th>\n",
              "      <td>0.169351</td>\n",
              "    </tr>\n",
              "  </tbody>\n",
              "</table>\n",
              "</div><br><label><b>dtype:</b> float32</label>"
            ]
          },
          "metadata": {},
          "execution_count": 112
        }
      ],
      "source": [
        "test_df = pd.read_csv('/content/test.csv')\n",
        "test_inputs = test_df[input_columns].copy()\n",
        "test_inputs[categorical_columns] = test_inputs[categorical_columns].astype('category')\n",
        "probs = final_clf.predict_proba(test_inputs)[:,1]\n",
        "\n",
        "submission = pd.read_csv('sample_submission.csv')\n",
        "submission['Exited'] = probs\n",
        "submission.to_csv('submission_xgb.csv', index=False)\n",
        "submission['Exited'].head()"
      ]
    },
    {
      "cell_type": "markdown",
      "source": [
        "Обрала бустинг XGBoost, бо він показав кращі результати та різниця метрик на тренувальних та валідаційних даних дуже мала.![Знімок екрана 2025-02-23 о 13.49.23.png](data:image/png;base64,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)"
      ],
      "metadata": {
        "id": "u43gdcmdoigt"
      }
    }
  ],
  "metadata": {
    "accelerator": "GPU",
    "colab": {
      "gpuType": "T4",
      "provenance": []
    },
    "kernelspec": {
      "display_name": "Python 3",
      "name": "python3"
    },
    "language_info": {
      "name": "python"
    }
  },
  "nbformat": 4,
  "nbformat_minor": 0
}