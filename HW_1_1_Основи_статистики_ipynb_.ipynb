{
  "nbformat": 4,
  "nbformat_minor": 0,
  "metadata": {
    "colab": {
      "provenance": []
    },
    "kernelspec": {
      "name": "python3",
      "display_name": "Python 3"
    },
    "language_info": {
      "name": "python"
    }
  },
  "cells": [
    {
      "cell_type": "markdown",
      "source": [
        "В цьому домашньому завданні відпрацюємо з вами знання, отримані в модулі зі статистики.\n",
        "\n",
        "**Завдання 1.** Ми обговорили з Вами на лекції, що велика літера Сігма грецького алфавіту позначає в математиці суму. Знайдіть з використанням Python $\\Sigma x$, $\\Sigma x^2$, та $\\Sigma (x-1)^2$ для наступного набору даних:\n",
        "`1 3 4`\n",
        "Виведіть результат кожного обчислення на екран."
      ],
      "metadata": {
        "id": "SDhaTqxcWhnP"
      }
    },
    {
      "cell_type": "code",
      "source": [
        "x = [1, 3, 4]\n",
        "sum(x), sum(el**2 for el in x), sum((el - 1)**2 for el in x)\n",
        "# result (8, 26, 13)"
      ],
      "metadata": {
        "id": "B1mgx_IBT0e8",
        "colab": {
          "base_uri": "https://localhost:8080/"
        },
        "outputId": "5048a029-c5cc-46c0-b957-111ddd98db55"
      },
      "execution_count": 1,
      "outputs": [
        {
          "output_type": "execute_result",
          "data": {
            "text/plain": [
              "(8, 26, 13)"
            ]
          },
          "metadata": {},
          "execution_count": 1
        }
      ]
    },
    {
      "cell_type": "markdown",
      "source": [
        "**Завдання 2.** Ми зібрали дані про суму покупок в гривнях 20ма випадково обраними клієнтами в нашому магазині (всього клієнтів у нас більше) за минулий місяць. Вони представлені в змінній `sum_purchases`. Знайдіть **вибіркове середнє** для цих даних кожним з зазначених методів:   \n",
        "\n",
        "  2.1. без використання жодних бібліотек, користуючись тільки Python.  \n",
        "  2.2. використовуючи відповідний метод бібліотеки `numpy`.\n",
        "\n",
        "  Виведіть результат обчислень в кожному з випадків на екран та порівняйте результати. Вони співпадають?"
      ],
      "metadata": {
        "id": "fa78aW5lhiia"
      }
    },
    {
      "cell_type": "code",
      "execution_count": 33,
      "metadata": {
        "id": "_9kMt3rq6V5m"
      },
      "outputs": [],
      "source": [
        "sum_purchases = [ 316,  493,  367,  153,  224,  121,  322,  450,  196,  397,  281,\n",
        "  239,  484,  124,  223,  448,  432,  255, 4310, 3524]"
      ]
    },
    {
      "cell_type": "code",
      "source": [
        "import numpy as np\n",
        "\n",
        "sum(sum_purchases) / len(sum_purchases), np.mean(sum_purchases)\n",
        "\n",
        "# result (667.95, 667.95)"
      ],
      "metadata": {
        "id": "wPmL919HT1c0",
        "colab": {
          "base_uri": "https://localhost:8080/"
        },
        "outputId": "a678eab5-b8d7-4ac5-b8ca-761f97d76d94"
      },
      "execution_count": 3,
      "outputs": [
        {
          "output_type": "execute_result",
          "data": {
            "text/plain": [
              "(667.95, 667.95)"
            ]
          },
          "metadata": {},
          "execution_count": 3
        }
      ]
    },
    {
      "cell_type": "markdown",
      "source": [
        "**Завдання 3.** Для того ж набору даних в змінній `sum_purchases` обчисліть **медіану** кожним з зазначених методів:  \n",
        "\n",
        "  3.1. без використання жодних бібліотек, користуючись тільки Python.  \n",
        "  3.2. використовуючи відповідний метод бібліотеки numpy.  \n",
        "\n",
        "Виведіть результат обчислень в кожному з випадків на екран. Порівняйте результати зі значенням вибіркового середнього. Напишіть коментар, для яких задач ви б використовували вибіркове середнє, а для яких - медіану?"
      ],
      "metadata": {
        "id": "FMdoxZd0kZdW"
      }
    },
    {
      "cell_type": "code",
      "source": [
        "(sorted(sum_purchases)[len(sum_purchases)//2-1] + sorted(sum_purchases)[len(sum_purchases)//2]) / 2, np.median(sorted(sum_purchases))\n",
        "\n",
        "# result (319.0, 319.0)"
      ],
      "metadata": {
        "id": "x58BumvuT2nl",
        "colab": {
          "base_uri": "https://localhost:8080/"
        },
        "outputId": "32d9f314-0eda-4ed1-9f14-6049daa7dca0"
      },
      "execution_count": 4,
      "outputs": [
        {
          "output_type": "execute_result",
          "data": {
            "text/plain": [
              "(319.0, 319.0)"
            ]
          },
          "metadata": {},
          "execution_count": 4
        }
      ]
    },
    {
      "cell_type": "markdown",
      "source": [
        "1. Вибіркове середнє можна використати для обчислень даних, коли потрібно знати середнє значення на основі всіх даних.\n",
        "2. Медінану можна використати, коли потрібно отримати середнє значення без урахування викидів."
      ],
      "metadata": {
        "id": "p4IdQQ5a0xj2"
      }
    },
    {
      "cell_type": "markdown",
      "source": [
        "**Завдання 4**. Обчислість стандартне відхилення наведеної вибірки в змінній `sum_purchases` кожним з зазначених методів:  \n",
        "\n",
        "  4.1. без використання жодних бібліотек, користуючись тільки Python.  \n",
        "  4.2. використовуючи відповідний метод бібліотеки numpy.  \n",
        "\n",
        "Виведіть результат обчислень в кожному з випадків на екран."
      ],
      "metadata": {
        "id": "o1Z7az2yNDQV"
      }
    },
    {
      "cell_type": "code",
      "source": [
        "sum_purchases_minus_mean = [(el - sum(sum_purchases)/len(sum_purchases))**2 for el in sum_purchases]\n",
        "np.sqrt(sum(sum_purchases_minus_mean)/(len(sum_purchases)-1)), np.std(sum_purchases, ddof=1)\n",
        "# result (1124.5433447451132, 1124.5433447451132)"
      ],
      "metadata": {
        "id": "X4ixtmL2T642",
        "colab": {
          "base_uri": "https://localhost:8080/"
        },
        "outputId": "6156ac55-a091-4870-86c1-5b7eeff67438"
      },
      "execution_count": 17,
      "outputs": [
        {
          "output_type": "execute_result",
          "data": {
            "text/plain": [
              "(1124.5433447451132, 1124.5433447451132)"
            ]
          },
          "metadata": {},
          "execution_count": 17
        }
      ]
    },
    {
      "cell_type": "markdown",
      "source": [
        "**Завдання 5**. Ми провели дослідження віку студентів-першокурсників. Виявилось, що\n",
        "- 10 студентів мають вік 16 років\n",
        "- 25 студентів - 17 років\n",
        "- 20 студентів - 18 років\n",
        "- 2 студенти - 20 років\n",
        "\n",
        "Обчислість середнє значення для цієї вибірки будь-яким способом - на чистому Python або з numpy - та виведіть результат на екран."
      ],
      "metadata": {
        "id": "M1ntKTjXLVlH"
      }
    },
    {
      "cell_type": "code",
      "source": [
        "sixteen_years = [16] * 10\n",
        "seventeen_years = [17] * 25\n",
        "eighteen_years = [18] * 20\n",
        "twenty_years = [20] * 2\n",
        "all_years = sixteen_years + seventeen_years + eighteen_years + twenty_years\n",
        "np.mean(all_years)\n",
        "\n",
        "# result 17.280701754385966"
      ],
      "metadata": {
        "id": "RdIU4M-7T8R4",
        "colab": {
          "base_uri": "https://localhost:8080/"
        },
        "outputId": "ab19c843-898a-4458-cf85-8aef1f4469c0"
      },
      "execution_count": 7,
      "outputs": [
        {
          "output_type": "execute_result",
          "data": {
            "text/plain": [
              "17.280701754385966"
            ]
          },
          "metadata": {},
          "execution_count": 7
        }
      ]
    },
    {
      "cell_type": "markdown",
      "source": [
        "**Завдання 6**. Крім даних про суму покупок, ми зібрали ще дані про кількість відвідувань кожного з кожного покупця, які знаходяться в змінній `visits`. Обчисліть коефіцієнт кореляції Пірсона для суми покупок і кількості відвідувань кожним з зазначених методів:  \n",
        "\n",
        "  6.1. без використання жодних бібліотек, користуючись тільки Python.  \n",
        "  6.2. використовуючи відповідний метод бібліотеки numpy.  \n",
        "  \n",
        "Виведіть результат на екран. Проаналізуйте результат.\n",
        "\n",
        "Виведіть додатково графік розсіювання викликавши код нижче і зробіть заключення, чи варто щось змінити при підрахунку кореляції, аби коефіцієнт Пірсона показував коректну оцінку лінійної залежності?"
      ],
      "metadata": {
        "id": "Xx8MFkkVM53z"
      }
    },
    {
      "cell_type": "code",
      "source": [
        "visits = [ 6,  2, 10,  3,  9,  9,  2,  3,  6,  6, 10,  2,  5, 10,  3,  5,  4,\n",
        "        7,  4,  2]"
      ],
      "metadata": {
        "id": "4OIGBT7UOWhO"
      },
      "execution_count": 8,
      "outputs": []
    },
    {
      "cell_type": "code",
      "source": [
        "print (len(visits), len(sum_purchases))\n",
        "# result (20, 20)\n",
        "\n",
        "xy = [(sum_purchases[i] - np.mean(sum_purchases)) * (visits[i] - np.mean(visits)) for i in range(len(sum_purchases))]\n",
        "cov_xy_raw = sum(xy)/(len(sum_purchases) - 1)\n",
        "print(cov_xy_raw)\n",
        "# result -990.1368421052633\n",
        "print (np.cov(sum_purchases, visits))\n",
        "# result array([[ 1.26459773e+06, -9.90136842e+02],\n",
        "      #  [-9.90136842e+02,  8.46315789e+00]])\n",
        "      # тут спочатку трохи збив різний формат представлення результатів, а потім звернула увагу на e+02\n",
        "\n",
        "\n",
        "visits_minus_mean = [(el - sum(visits)/len(visits))**2 for el in visits]\n",
        "\n",
        "corrcoef_raw = cov_xy_raw / (np.sqrt(sum(sum_purchases_minus_mean)/(len(sum_purchases)-1)) * np.sqrt(sum(visits_minus_mean)/(len(visits)-1)))\n",
        "print(corrcoef_raw)\n",
        "# result -0.3026584468766646\n",
        "\n",
        "print(np.corrcoef(sum_purchases, visits))\n",
        "# result [[ 1.         -0.30265845]\n",
        "#  [-0.30265845  1.        ]]"
      ],
      "metadata": {
        "id": "YLNF7VbeT97Q",
        "colab": {
          "base_uri": "https://localhost:8080/"
        },
        "outputId": "2d0b014f-f3dd-48cc-ffa6-4ee0d8fd633a"
      },
      "execution_count": 27,
      "outputs": [
        {
          "output_type": "stream",
          "name": "stdout",
          "text": [
            "20 20\n",
            "-990.1368421052633\n",
            "[[ 1.26459773e+06 -9.90136842e+02]\n",
            " [-9.90136842e+02  8.46315789e+00]]\n",
            "-0.3026584468766646\n",
            "[[ 1.         -0.30265845]\n",
            " [-0.30265845  1.        ]]\n"
          ]
        }
      ]
    },
    {
      "cell_type": "markdown",
      "source": [
        "1. По результатам обчислень коефіцієнта кореляції Пірсона можна зробити висновок, що у нас присутня слабка негативна кореляція, тобто чим більше сума покупок, тим меньша кількість відвідувачів. Але якщо подивитись на графік розсіювання, то бачимо два аномальні викиди, де є великі суми покупок і невелика кількість відвідучачів (загалом значень доволь небагато - 20, тою такі аномальні викиди можуть значно спотворювати результати). А от всі інші значення знаходяться в одній площині, і більше схилються до відсутньої кореляції."
      ],
      "metadata": {
        "id": "roYKVV51VG53"
      }
    },
    {
      "cell_type": "code",
      "source": [
        "import matplotlib.pyplot as plt\n",
        "\n",
        "plt.scatter(sum_purchases, visits)\n",
        "plt.title('Scatter Plot of Purchases vs. Visits')\n",
        "plt.xlabel('Sum of Purchases')\n",
        "plt.ylabel('Number of Visits');"
      ],
      "metadata": {
        "colab": {
          "base_uri": "https://localhost:8080/",
          "height": 472
        },
        "id": "gaeoGA-5Prr1",
        "outputId": "69bdcabc-aa64-4428-ce03-f80c948b4027"
      },
      "execution_count": 28,
      "outputs": [
        {
          "output_type": "display_data",
          "data": {
            "text/plain": [
              "<Figure size 640x480 with 1 Axes>"
            ],
            "image/png": "[encoded data removed]"
          },
          "metadata": {}
        }
      ]
    },
    {
      "cell_type": "markdown",
      "source": [
        "**Завдання 7**. В попередньому завданні ми помітили, що викиди нам заважають отримати \"правдиве\" значення кореляції. Давайте вилучимо записи, які відповідають значенням з викидами в сумі покупок і обчисліть коеф. кореляції. Для цього поставте `threshold`, який дорінює середньому значенню + 2 стандартних вдіхилля суми покупок і всі значення, які більше за нього, будемо вважати викидами (є і інші правила для визначення викидів - з ним и познайомимось пізніше).\n",
        "\n",
        "Вилучіть значення з обох масивів і обчисліть коеф. кореляції Пірсона з допомогою `numpy` для кількості візитів і суми покупок без записів-викидів. Виведіть результат на екран, побудуйте діаграму розсіювання і проаналізуйте результат: що можемо сказати про залежність в даних?"
      ],
      "metadata": {
        "id": "4pEg0KzSQ6KA"
      }
    },
    {
      "cell_type": "code",
      "source": [
        "threshold = np.mean(sum_purchases) + 2 * np.std(sum_purchases)\n",
        "print(threshold)\n",
        "# result 2860.0885426108453\n",
        "\n",
        "filtered_indexes = sum_purchases <= threshold\n",
        "purchases_array = np.array(sum_purchases)\n",
        "false_values = purchases_array[~filtered_indexes]\n",
        "print(false_values)\n",
        "# result [4310 3524]\n",
        "\n",
        "visits_array = np.array(visits)\n",
        "filtered_purchases = purchases_array[filtered_indexes]\n",
        "filtered_visits = visits_array[filtered_indexes]\n",
        "print(len(filtered_purchases), len(filtered_visits))\n",
        "# result 18 18\n",
        "\n",
        "cor_filtered = np.corrcoef(filtered_purchases, filtered_visits)"
      ],
      "metadata": {
        "id": "Yj3Yfaf7UBbc",
        "colab": {
          "base_uri": "https://localhost:8080/"
        },
        "outputId": "e8dd9bc9-1364-4b63-b46a-9e532dff7745"
      },
      "execution_count": 38,
      "outputs": [
        {
          "output_type": "stream",
          "name": "stdout",
          "text": [
            "2860.0885426108453\n",
            "[4310 3524]\n",
            "18 18\n"
          ]
        },
        {
          "output_type": "execute_result",
          "data": {
            "text/plain": [
              "array([[ 1.        , -0.36852121],\n",
              "       [-0.36852121,  1.        ]])"
            ]
          },
          "metadata": {},
          "execution_count": 38
        }
      ]
    },
    {
      "cell_type": "code",
      "source": [
        "plt.scatter(filtered_purchases, filtered_visits)\n",
        "\n",
        "coefficients = np.polyfit(filtered_purchases, filtered_visits, deg=1)  # Коефіцієнти лінії регресії\n",
        "trend_line = np.poly1d(coefficients)  # Створення поліноміальної функції для трендової лінії\n",
        "plt.plot(filtered_purchases, trend_line(filtered_purchases), color=\"red\", label=\"Трендова лінія\")\n",
        "\n",
        "plt.title('Scatter Plot of Purchases vs. Visits')\n",
        "plt.xlabel('Sum of Purchases')\n",
        "plt.ylabel('Number of Visits');"
      ],
      "metadata": {
        "colab": {
          "base_uri": "https://localhost:8080/",
          "height": 472
        },
        "id": "shw1xkabdGqN",
        "outputId": "14b3f3ab-a6d9-4ea7-bf98-cd99d5960345"
      },
      "execution_count": 40,
      "outputs": [
        {
          "output_type": "display_data",
          "data": {
            "text/plain": [
              "<Figure size 640x480 with 1 Axes>"
            ],
            "image/png": "[encoded data removed]"
          },
          "metadata": {}
        }
      ]
    },
    {
      "cell_type": "markdown",
      "source": [
        "1. Після вилучення викидів ступінь негативної кореляції трохи збільшиився. Але загалом візуально дивлячись на графік розсіювання важко було побачити якусь закономірність. Довелось візуалізувати лінію тренду, щоб побачити закономірності.\n",
        "2. Можливо тут в принципі проблема полягає в тому, що дуже мало даних, тому майже кожна точка виглядає як викид. Дуже цікаві дані, коли було 10 та 9 відвідувачів, а сума їх покупок найменша (менша навіть, коли було 2 відвідувача). Треба більше даних для більш адекватного аналізу ситуації (що за товари купували, коли, хто купував тощо)."
      ],
      "metadata": {
        "id": "WLpLDPl0d4hK"
      }
    }
  ]
}