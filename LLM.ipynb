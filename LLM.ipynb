{
  "nbformat": 4,
  "nbformat_minor": 0,
  "metadata": {
    "colab": {
      "provenance": []
    },
    "kernelspec": {
      "name": "python3",
      "display_name": "Python 3"
    },
    "language_info": {
      "name": "python"
    }
  },
  "cells": [
    {
      "cell_type": "markdown",
      "source": [
        "\n",
        "### Завдання 1: Виклик LLM з базовим промптом\n",
        "\n",
        "Створіть можливість викликати LLM зі звичайним текстовим промптом.\n",
        "\n",
        "Промпт має дозвляти отримати інформацію простою мовою на певну тему. В цьому завданні ми хочемо дізнатись про тему \"Квантові обчислення\".\n",
        "\n",
        "Відповідь моделі повинна містити визначення, ключові переваги та поточні дослідження в цій галузі.\n",
        "\n",
        "Обмежте відповідь до 200 символів і пропишіть в промпті аби відповідь була короткою (це зекономить Вам час і гроші на згенеровані токени).\n",
        "\n",
        "В якості LLM можна скористатись як моделлю з HugginFace (рекомендую Mistral), так і ChatGPT4 або ChatGPT3. В обох випадках треба імпортувати потрібну \"обгортку\" (тобто клас, який дозволить ініціювати модель) з LangChain для виклику LLM за API, а також зчитати особистий токен з файла, наприклад, `creds.json`, який розміщений у Вас локально і Ви НЕ здаєте його в ДЗ і НЕ комітите в git 😏\n",
        "\n",
        "Встановіть своє значення температури на свій розсуд (тут немає правильного чи неправильного значення) і напишіть, чому ви обрали саме таке значення для цього завдання.  \n",
        "\n",
        "Запити можна робити як українською, так і англійською - орієнтуйтесь на те, де і чи хочете ви потім лишити цей проєкт і відповідна яка мова буде пасувати більше. В розвʼязках промпти - українською."
      ],
      "metadata": {
        "id": "RMalK_oYR-X_"
      }
    },
    {
      "cell_type": "code",
      "source": [
        "import json\n",
        "import os\n",
        "\n",
        "with open(\"creds.json\", \"r\") as f:\n",
        "    creds = json.load(f)\n",
        "    os.environ[\"OPENAI_API_KEY\"] = creds[\"OPENAI_API_KEY\"]\n",
        "    os.environ[\"SERPAPI_API_KEY\"] = creds[\"SERPAPI_API_KEY\"]"
      ],
      "metadata": {
        "id": "JIF7ljjAATdP"
      },
      "execution_count": 1,
      "outputs": []
    },
    {
      "cell_type": "code",
      "source": [
        "!pip -q install langchain langchain_openai huggingface_hub openai"
      ],
      "metadata": {
        "id": "vv9IgdUeCaIp"
      },
      "execution_count": 3,
      "outputs": []
    },
    {
      "cell_type": "code",
      "source": [
        "from langchain_openai import OpenAI\n",
        "\n",
        "llm = OpenAI(\n",
        "    temperature=0.3,  # Низька температура для точності та фактичності\n",
        "    max_tokens=200\n",
        ")\n",
        "\n",
        "prompt = (\n",
        "    \"Explain quantum computing in simple terms, including its definition, key advantages, and current research. \"\n",
        "    \"Limit the response to 200 characters. Be concise and clear.\"\n",
        ")\n",
        "\n",
        "response = llm.invoke(prompt)\n",
        "print(response)"
      ],
      "metadata": {
        "id": "vT1ICe74cAUS",
        "colab": {
          "base_uri": "https://localhost:8080/"
        },
        "outputId": "acbedfdb-2301-4aaa-efd9-cb1e2b582d2a"
      },
      "execution_count": 4,
      "outputs": [
        {
          "output_type": "stream",
          "name": "stdout",
          "text": [
            "\n",
            "\n",
            "Quantum computing is a type of computing that uses quantum bits (qubits) instead of traditional bits to perform calculations. It has the potential to solve complex problems much faster than classical computers. Current research focuses on developing more stable and scalable quantum systems.\n"
          ]
        }
      ]
    },
    {
      "cell_type": "markdown",
      "source": [
        "### Завдання 2: Створення параметризованого промпта для генерації тексту\n",
        "Тепер ми хочемо оновити попередній фукнціонал так, аби в промпт ми могли передавати тему як параметр. Для цього скористайтесь `PromptTemplate` з `langchain` і реалізуйте параметризований промпт та виклик моделі з ним.\n",
        "\n",
        "Запустіть оновлений функціонал (промпт + модел) для пояснень про теми\n",
        "- \"Баєсівські методи в машинному навчанні\"\n",
        "- \"Трансформери в машинному навчанні\"\n",
        "- \"Explainable AI\"\n",
        "\n",
        "Виведіть результати відпрацювання моделі на екран."
      ],
      "metadata": {
        "id": "UiIzV0UIS0GA"
      }
    },
    {
      "cell_type": "code",
      "source": [
        "from langchain.prompts import PromptTemplate\n",
        "\n",
        "prompt_template = PromptTemplate(\n",
        "    input_variables=[\"topic\"],\n",
        "    template=\"Explain {topic} in simple terms, including its definition, key advantages, and current research. \"\n",
        "             \"Limit the response to 200 characters. Be concise and clear.\"\n",
        ")\n",
        "\n",
        "topics = [\n",
        "    \"Bayesian methods in machine learning\",\n",
        "    \"Transformers in machine learning\",\n",
        "    \"Explainable AI\"\n",
        "]\n",
        "\n",
        "for topic in topics:\n",
        "    prompt = prompt_template.format(topic=topic)\n",
        "    print(prompt.format(topic=topic))\n",
        "    response = llm.invoke(prompt)\n",
        "    print(f\"Topic: {topic}\\nResponse: {response}\\n\")"
      ],
      "metadata": {
        "id": "kcg7EfdNcBDq",
        "colab": {
          "base_uri": "https://localhost:8080/"
        },
        "outputId": "22d09c45-31e6-422a-bfd7-7cbf31b5e445"
      },
      "execution_count": 5,
      "outputs": [
        {
          "output_type": "stream",
          "name": "stdout",
          "text": [
            "Explain Bayesian methods in machine learning in simple terms, including its definition, key advantages, and current research. Limit the response to 200 characters. Be concise and clear.\n",
            "Topic: Bayesian methods in machine learning\n",
            "Response: \n",
            "\n",
            "Bayesian methods in machine learning use probability to make predictions and update beliefs. They can handle uncertainty and small datasets well. Current research focuses on improving efficiency and scalability.\n",
            "\n",
            "Explain Transformers in machine learning in simple terms, including its definition, key advantages, and current research. Limit the response to 200 characters. Be concise and clear.\n",
            "Topic: Transformers in machine learning\n",
            "Response: \n",
            "\n",
            "Transformers are a type of neural network architecture used in machine learning for natural language processing tasks. They have shown to be highly effective in tasks such as language translation and text summarization. They are known for their ability to process long sequences of data and capture complex relationships between words. Current research is focused on improving their efficiency and performance on various tasks.\n",
            "\n",
            "Explain Explainable AI in simple terms, including its definition, key advantages, and current research. Limit the response to 200 characters. Be concise and clear.\n",
            "Topic: Explainable AI\n",
            "Response: \n",
            "\n",
            "Explainable AI is a type of artificial intelligence that is designed to provide understandable explanations for its decisions and actions. Its key advantages include increased transparency and trust, as well as the ability to identify and correct biases. Current research is focused on developing techniques to make AI more explainable and interpretable.\n",
            "\n"
          ]
        }
      ]
    },
    {
      "cell_type": "markdown",
      "source": [
        "\n",
        "\n",
        "### Завдання 3: Використання агента для автоматизації процесів\n",
        "Створіть агента, який допоможе автоматично шукати інформацію про останні наукові публікації в різних галузях. Наприклад, агент має знайти 5 останніх публікацій на тему штучного інтелекту.\n",
        "\n",
        "**Кроки:**\n",
        "1. Налаштуйте агента типу ReAct в LangChain для виконання автоматичних запитів.\n",
        "2. Створіть промпт, який спрямовує агента шукати інформацію в інтернеті або в базах даних наукових публікацій.\n",
        "3. Агент повинен видати список публікацій, кожна з яких містить назву, авторів і короткий опис.\n",
        "\n",
        "Для взаємодії з пошуком там необхідно створити `Tool`. В лекції ми використовували `serpapi`. Можна продовжити користуватись ним, або обрати інше АРІ для пошуку (вони в тому числі є безкоштовні). Перелік різних АРІ, доступних в langchain, і орієнтир по вартості запитів можна знайти в окремому документі [тут](https://hannapylieva.notion.site/API-12994835849480a69b2adf2b8441cbb3?pvs=4).\n",
        "\n",
        "Лишаю також нижче приклад використання одного з безкоштовних пошукових АРІ - DuckDuckGo (не потребує створення токена!)  - можливо він вам сподобається :)\n"
      ],
      "metadata": {
        "id": "m9UsL2gXSe-3"
      }
    },
    {
      "cell_type": "code",
      "source": [
        "!pip install -q langchain_community duckduckgo_search"
      ],
      "metadata": {
        "colab": {
          "base_uri": "https://localhost:8080/"
        },
        "id": "Jzj4PHP9XwH-",
        "outputId": "40a1bb2b-70af-4ea9-c413-d04659f7354d"
      },
      "execution_count": 6,
      "outputs": [
        {
          "output_type": "stream",
          "name": "stdout",
          "text": [
            "\u001b[2K   \u001b[90m━━━━━━━━━━━━━━━━━━━━━━━━━━━━━━━━━━━━━━━━\u001b[0m \u001b[32m2.5/2.5 MB\u001b[0m \u001b[31m26.4 MB/s\u001b[0m eta \u001b[36m0:00:00\u001b[0m\n",
            "\u001b[2K   \u001b[90m━━━━━━━━━━━━━━━━━━━━━━━━━━━━━━━━━━━━━━━━\u001b[0m \u001b[32m1.0/1.0 MB\u001b[0m \u001b[31m44.1 MB/s\u001b[0m eta \u001b[36m0:00:00\u001b[0m\n",
            "\u001b[2K   \u001b[90m━━━━━━━━━━━━━━━━━━━━━━━━━━━━━━━━━━━━━━━━\u001b[0m \u001b[32m3.3/3.3 MB\u001b[0m \u001b[31m77.7 MB/s\u001b[0m eta \u001b[36m0:00:00\u001b[0m\n",
            "\u001b[2K   \u001b[90m━━━━━━━━━━━━━━━━━━━━━━━━━━━━━━━━━━━━━━━━\u001b[0m \u001b[32m50.9/50.9 kB\u001b[0m \u001b[31m2.6 MB/s\u001b[0m eta \u001b[36m0:00:00\u001b[0m\n",
            "\u001b[?25h"
          ]
        }
      ]
    },
    {
      "cell_type": "code",
      "source": [
        "from langchain_community.tools import DuckDuckGoSearchRun\n",
        "\n",
        "search = DuckDuckGoSearchRun()\n",
        "\n",
        "search.invoke(\"Obama's first name?\")"
      ],
      "metadata": {
        "colab": {
          "base_uri": "https://localhost:8080/",
          "height": 140
        },
        "id": "p56AZ_SnXvTs",
        "outputId": "bf8bf8bb-891a-49f5-e61b-761aefe02882"
      },
      "execution_count": 7,
      "outputs": [
        {
          "output_type": "execute_result",
          "data": {
            "text/plain": [
              "'The elections of 1792 were the first ones in the United States that were contested on anything resembling a partisan basis.[20] ^ The 1796 presidential election was the first contested American presidential election and the only one in which a president and vice president were elected from opposing political parties. Barack Obama, the 44th President of the United States, broke barriers as the first African-American president and implemented significant healthcare reforms during his tenure. When the Obama family moved into the White House in 2009, Barack Obama, his wife, Michelle, and their daughters, Malia and Sasha, made up this beautiful nuclear family who were always well-dressed and well-mannered in public settings. As the first children of the country from 2009 to 2017, Malia and ... Former President Barack Obama was born in Hawaii. But nearly eight years since he left office, some social media users c Barack Obama served as the 44th president of the United States (2009-17) and was the first African American to hold that post. A member of the Democratic Party, Obama previously represented Illinois in the U.S. Senate from 2005 to 2008. He was honoured with the Nobel Peace Prize in 2009.'"
            ],
            "application/vnd.google.colaboratory.intrinsic+json": {
              "type": "string"
            }
          },
          "metadata": {},
          "execution_count": 7
        }
      ]
    },
    {
      "cell_type": "code",
      "source": [
        "!pip install -q google-search-results langchain-community langchain_experimental"
      ],
      "metadata": {
        "id": "60jZEitmcCiP",
        "colab": {
          "base_uri": "https://localhost:8080/"
        },
        "outputId": "698b8ea7-c900-408d-d3b1-c13b9a24cdab"
      },
      "execution_count": 8,
      "outputs": [
        {
          "output_type": "stream",
          "name": "stdout",
          "text": [
            "  Preparing metadata (setup.py) ... \u001b[?25l\u001b[?25hdone\n",
            "\u001b[2K   \u001b[90m━━━━━━━━━━━━━━━━━━━━━━━━━━━━━━━━━━━━━━━━\u001b[0m \u001b[32m209.2/209.2 kB\u001b[0m \u001b[31m5.0 MB/s\u001b[0m eta \u001b[36m0:00:00\u001b[0m\n",
            "\u001b[?25h  Building wheel for google-search-results (setup.py) ... \u001b[?25l\u001b[?25hdone\n"
          ]
        }
      ]
    },
    {
      "cell_type": "code",
      "source": [
        "from langchain_openai import ChatOpenAI\n",
        "from langchain.agents import initialize_agent, AgentType\n",
        "from langchain.tools import Tool\n",
        "from langchain.llms import OpenAI\n",
        "import json\n",
        "from langchain.utilities import SerpAPIWrapper\n",
        "\n",
        "search = SerpAPIWrapper()\n",
        "search_tool = Tool(\n",
        "    name=\"Search\",\n",
        "    func=search.run,\n",
        "    description=\"Use this tool to find the latest scientific publications on a given topic.\"\n",
        ")\n",
        "\n",
        "agent = initialize_agent(\n",
        "    tools=[search_tool],\n",
        "    llm=llm,\n",
        "    agent=AgentType.ZERO_SHOT_REACT_DESCRIPTION,\n",
        "    verbose=True\n",
        ")\n",
        "\n",
        "query = \"5 latest scientific papers on artificial intelligence with title, authors, and summary\"\n",
        "result = agent.invoke(query)\n",
        "\n",
        "print(\"\\nResults:\\n\", result)"
      ],
      "metadata": {
        "colab": {
          "base_uri": "https://localhost:8080/"
        },
        "id": "Tsn8iJjEFXDW",
        "outputId": "6ad8e58c-042f-4175-847a-c9adcb1f9c72"
      },
      "execution_count": 11,
      "outputs": [
        {
          "output_type": "stream",
          "name": "stdout",
          "text": [
            "\n",
            "\n",
            "\u001b[1m> Entering new AgentExecutor chain...\u001b[0m\n",
            "\u001b[32;1m\u001b[1;3m I should use the Search tool to find the latest scientific publications on artificial intelligence\n",
            "Action: Search\n",
            "Action Input: \"artificial intelligence\"\u001b[0m\n",
            "Observation: \u001b[36;1m\u001b[1;3m[{'title': '1 Artificial Intelligence (AI) Stock Gen Zers Should Buy Today and Hold for Decades', 'link': 'https://www.fool.com/investing/2025/03/23/1-artificial-intelligence-ai-stock-gen-z-should-bu/', 'source': 'The Motley Fool', 'date': '2 hours ago', 'thumbnail': 'https://serpapi.com/searches/67e04847c5d2160399a6c005/images/191b2bef9224c345e1c728d187c431e4d8d37a20b2bfa63a.jpeg'}, {'title': 'AI prediction model is a major breakthrough in weather forecasting', 'link': 'https://www.earth.com/news/ai-prediction-model-is-a-major-breakthrough-in-weather-forecasting/', 'source': 'Earth.com', 'date': '1 hour ago', 'thumbnail': 'https://serpapi.com/searches/67e04847c5d2160399a6c005/images/191b2bef9224c3451394162bab3ab1a2648d01d6ed60e8fe.jpeg'}, {'title': 'AI will soon be taking your drive-thru orders at 500 Taco Bell, Pizza Hut, KFC locations', 'link': 'https://www.usatoday.com/story/money/food/2025/03/22/artificial-intelligence-fast-food-taco-bell-kfc/82583772007/', 'source': 'USA Today', 'date': '1 day ago', 'thumbnail': 'https://serpapi.com/searches/67e04847c5d2160399a6c005/images/191b2bef9224c34559c6985168df46220ca347a8bed91690.jpeg'}, {'title': 'OpenAI, Meta in talks with Reliance for AI partnerships, The Information reports', 'link': 'https://www.reuters.com/technology/artificial-intelligence/openai-meta-talks-with-reliance-ai-partnerships-information-reports-2025-03-22/', 'source': 'Reuters', 'date': '24 hours ago', 'thumbnail': 'https://serpapi.com/searches/67e04847c5d2160399a6c005/images/191b2bef9224c34590fbff0e99941a8506cc2c3985d5628d.jpeg'}]\u001b[0m\n",
            "Thought:\u001b[32;1m\u001b[1;3m I now know the final answer\n",
            "Final Answer: The latest scientific publications on artificial intelligence are: 1) \"Artificial Intelligence (AI) Stock Gen Zers Should Buy Today and Hold for Decades\" by The Motley Fool, discussing the potential of AI in the stock market; 2) \"AI prediction model is a major breakthrough in weather forecasting\" by Earth.com, highlighting the use of AI in improving weather forecasts; 3) \"AI will soon be taking your drive-thru orders at 500 Taco Bell, Pizza Hut, KFC locations\" by USA Today, discussing the implementation of AI in fast food chains; and 4) \"OpenAI, Meta in talks with Reliance for AI partnerships, The Information reports\" by Reuters, discussing potential partnerships between AI companies and Reliance.\u001b[0m\n",
            "\n",
            "\u001b[1m> Finished chain.\u001b[0m\n",
            "\n",
            "Results:\n",
            " {'input': '5 latest scientific papers on artificial intelligence with title, authors, and summary', 'output': 'The latest scientific publications on artificial intelligence are: 1) \"Artificial Intelligence (AI) Stock Gen Zers Should Buy Today and Hold for Decades\" by The Motley Fool, discussing the potential of AI in the stock market; 2) \"AI prediction model is a major breakthrough in weather forecasting\" by Earth.com, highlighting the use of AI in improving weather forecasts; 3) \"AI will soon be taking your drive-thru orders at 500 Taco Bell, Pizza Hut, KFC locations\" by USA Today, discussing the implementation of AI in fast food chains; and 4) \"OpenAI, Meta in talks with Reliance for AI partnerships, The Information reports\" by Reuters, discussing potential partnerships between AI companies and Reliance.'}\n"
          ]
        }
      ]
    },
    {
      "cell_type": "markdown",
      "source": [
        "\n",
        "\n",
        "### Завдання 4: Створення агента-помічника для вирішення бізнес-задач\n",
        "\n",
        "Створіть агента, який допомагає вирішувати задачі бізнес-аналітики. Агент має допомогти користувачу створити прогноз по продажам на наступний рік враховуючи рівень інфляції і погодні умови. Агент має вміти використовувати Python і ходити в інтернет аби отримати актуальні дані.\n",
        "\n",
        "**Кроки:**\n",
        "1. Налаштуйте агента, який працюватиме з аналітичними даними, заданими текстом. Користувач пише\n",
        "\n",
        "```\n",
        "Ми експортуємо апельсини з Бразилії. В 2021 експортували 200т, в 2022 - 190т, в 2023 - 210т, в 2024 який ще не закінчився - 220т. Зроби оцінку скільки ми зможемо експортувати апельсинів в 2025 враховуючи погодні умови в Бразилії і попит на апельсини в світі виходячи з економічної ситуації.\n",
        "```\n",
        "\n",
        "2. Створіть запит до агента, що містить чітке завдання – видати результат бізнес аналізу або написати, що він не може цього зробити і запит користувача (просто може бути все одним повідомлленням).\n",
        "\n",
        "3. Запустіть агента і проаналізуйте результати. Що можна покращити?\n"
      ],
      "metadata": {
        "id": "IOqujC6qY_NY"
      }
    },
    {
      "cell_type": "code",
      "execution_count": 15,
      "metadata": {
        "id": "UK6KA9PyRS0L",
        "colab": {
          "base_uri": "https://localhost:8080/"
        },
        "outputId": "c626d014-b2c2-4629-dc93-30562629633c"
      },
      "outputs": [
        {
          "output_type": "stream",
          "name": "stdout",
          "text": [
            "\n",
            "\n",
            "\u001b[1m> Entering new AgentExecutor chain...\u001b[0m\n",
            "\u001b[32;1m\u001b[1;3m I need to find data on the economy, inflation, and weather in Brazil.\n",
            "Action: Search\n",
            "Action Input: \"Brazil economy\", \"Brazil inflation\", \"Brazil weather\"\u001b[0m\n",
            "Observation: \u001b[36;1m\u001b[1;3m[' entity_type: related_questions.', 'Annual inflation rate in Brazil came in at 4.83% in December 2024, little changed from 4.87% in November. Inflation softened for housing and utilities.', '4 days ago —', 'Mar 13, 2025 —', \"Brazil's real GDP expanded by 2.9 percent in 2023 and is expected to grow by 2.8 percent in 2024, driven by solid consumption, sustained by a robust labor ...\", 'Consumer price inflation in Brazil averaged 6.2% in the ten years to 2022, below the Latin America regional average of 8.4%. The 2022 average figure was 9.3%.', 'Feb 13, 2025 —', 'Inflation Rate MoM in Brazil averaged 5.69 percent from 1980 until 2025, reaching an all time high of 82.39 percent in March of 1990 and a record low of -0.68 ...', 'Hyperinflation in Brazil occurred between the first three months of 1990. The monthly inflation rates between January and March 1990 were 71.9%, 71.7% and 81.3 ...', 'Feb 11, 2025 —', \"The government hasn't convinced investors it will reduce public spending as promised if it doesn't balance its books inflation will persist.\"]\u001b[0m\n",
            "Thought:\u001b[32;1m\u001b[1;3m I also need to find data on the demand for oranges in the world.\n",
            "Action: Search\n",
            "Action Input: \"global orange demand\"\u001b[0m\n",
            "Observation: \u001b[36;1m\u001b[1;3mHow big is the Orange Market? The Orange Market size is expected to reach USD 4.01 billion in 2025 and grow at a CAGR of 4.53% to reach USD 5.01 billion by 2030.\u001b[0m\n",
            "Thought:\u001b[32;1m\u001b[1;3m I need to take into account the current trend of decreasing orange exports from Brazil.\n",
            "Action: python_interpreter\n",
            "Action Input: \"print(200-190+210)\"\u001b[0m\n",
            "Observation: \u001b[33;1m\u001b[1;3m220\n",
            "\u001b[0m\n",
            "Thought:\u001b[32;1m\u001b[1;3m Based on the current trend and the expected growth in the global orange market, it is likely that Brazil will continue to export around 220 tons of oranges in 2025.\n",
            "Final Answer: Around 220 tons of oranges. The current trend of decreasing exports from Brazil and the expected growth in the global orange market suggest that Brazil will continue to export around 220 tons of oranges in 2025.\u001b[0m\n",
            "\n",
            "\u001b[1m> Finished chain.\u001b[0m\n",
            "\n",
            "Business Analysis Result:\n",
            " {'input': 'We export oranges from Brazil. In 2021, we exported 200 tons, in 2022 - 190 tons, in 2023 - 210 tons, in 2024, which has not yet ended - 220 tons. Make an estimate of how many oranges we will be able to export in 2025, given the weather conditions in Brazil and the demand for oranges in the world based on the economic situation.Provide the reason of your decision.If you can not solve this task - inform about this.', 'output': 'Around 220 tons of oranges. The current trend of decreasing exports from Brazil and the expected growth in the global orange market suggest that Brazil will continue to export around 220 tons of oranges in 2025.'}\n"
          ]
        }
      ],
      "source": [
        "from langchain_experimental.utilities import PythonREPL\n",
        "\n",
        "search = SerpAPIWrapper()\n",
        "search_tool = Tool(\n",
        "    name=\"Search\",\n",
        "    func=search.run,\n",
        "    description=\"Use this tool to get up-to-date data on the economy, inflation, and weather.\"\n",
        ")\n",
        "\n",
        "python_repl = PythonREPL()\n",
        "python_tool = Tool(\n",
        "    name=\"python_repl\",\n",
        "    description=\"A Python shell. Use this to execute python commands. Input should be a valid python command. If you want to see the output of a value, you necessarily should print it out with `print(...)`. Otherwise you won't see the result! It's very important.\",\n",
        "    func=python_repl.run,\n",
        ")\n",
        "python_tool.name = \"python_interpreter\"\n",
        "\n",
        "analytics_agent = initialize_agent(\n",
        "    tools=[search_tool, python_tool],\n",
        "    llm=llm,\n",
        "    agent=AgentType.ZERO_SHOT_REACT_DESCRIPTION,\n",
        "    verbose=True\n",
        ")\n",
        "\n",
        "query = (\n",
        "    \"We export oranges from Brazil. In 2021, we exported 200 tons, in 2022 - 190 tons, in 2023 - 210 tons, \"\n",
        "    \"in 2024, which has not yet ended - 220 tons. Make an estimate of how many oranges we will be able to export \"\n",
        "    \"in 2025, given the weather conditions in Brazil and the demand for oranges in the world based on the economic situation.\"\n",
        "    \"Provide the reason of your decision.\"\n",
        "    \"If you can not solve this task - inform about this.\"\n",
        ")\n",
        "\n",
        "result = analytics_agent.invoke(query)\n",
        "\n",
        "print(\"\\nBusiness Analysis Result:\\n\", result)"
      ]
    },
    {
      "cell_type": "markdown",
      "source": [
        "Overall the result is fine, but calculation is a bit strange.\n",
        "Action: python_interpreter\n",
        "Action Input: \"print(200-190+210)\"\n",
        "\n",
        "It is possible to improve promt and ask take into accout the average export amount for the last few years."
      ],
      "metadata": {
        "id": "3wjML1T3Moq7"
      }
    }
  ]
}